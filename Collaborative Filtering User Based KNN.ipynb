{
 "cells": [
  {
   "cell_type": "code",
   "execution_count": null,
   "metadata": {},
   "outputs": [],
   "source": []
  },
  {
   "cell_type": "code",
   "execution_count": null,
   "metadata": {},
   "outputs": [],
   "source": []
  },
  {
   "cell_type": "markdown",
   "metadata": {},
   "source": [
    "# Name: Ruta Misghina Gebremedhin\n",
    "# ID: 500959486"
   ]
  },
  {
   "cell_type": "markdown",
   "metadata": {},
   "source": [
    "<div style=\"text-align:center; background: linear-gradient(to top right, #222, #000); padding: 20px; color:rgb(9, 229, 20);\">\n",
    "    <h1 style=\"font-weight: bold; font-size: 50px;\">Collaborative filtering using User-based rating prediction (UserKNN) and User-based\n",
    "classification (UserKNN) </h1>\n",
    "</div>\n"
   ]
  },
  {
   "cell_type": "markdown",
   "metadata": {},
   "source": [
    "This document details the collaborative filtering pipeline for Assignment C, focusing on UserKNN-based rating prediction and classification. The workflow progresses from data preparation and sampling to baseline modeling, hyperparameter tuning, validation, and test evaluation.\n",
    "\n",
    "We incorporate an alternative user-based strategy by modeling users’ average rating tendencies, enhancing predictive depth and behavioral interpretability.\n",
    "\n",
    "Evaluation extends beyond RMSE and MAE to include novelty and diversity, reflecting a more holistic view of recommender quality. Models are validated across Movielens and Netflix datasets to confirm robustness and adaptability across domains.\n",
    "\n",
    "All modeling steps are fully documented to ensure transparency, reproducibility, and applicability in broader contexts."
   ]
  },
  {
   "cell_type": "markdown",
   "metadata": {},
   "source": [
    "<div style=\"text-align:center; background: linear-gradient(to top right, #222, #000); padding: 20px; color:rgb(9, 229, 108);\">\n",
    "    <h3 style=\"font-weight: bold; font-size: 50px;\"> Movielens</h3>\n",
    "</div>\n"
   ]
  },
  {
   "cell_type": "markdown",
   "metadata": {},
   "source": [
    "<div style=\"text-align:center; background: linear-gradient(to top right, #222, #000); padding: 15px; color:rgb(9, 229, 9);\">\n",
    "    <h1 style=\"font-weight: bold; font-size: 36px;\">0. Importing Packages and Libraries</h1>\n",
    "</div>\n"
   ]
  },
  {
   "cell_type": "code",
   "execution_count": null,
   "metadata": {},
   "outputs": [],
   "source": [
    "# Import necessary libraries\n",
    "import os   # os for operating system related functions\n",
    "import os.path   # os.path for handling file paths\n",
    "import random   # random for generating random numbers\n",
    "from datetime import datetime  # datetime module for working with dates and times\n",
    "\n",
    "import pandas as pd  # pandas for data manipulation and analysis\n",
    "import numpy as np   # numpy for numerical computations\n",
    "import matplotlib.pyplot as plt  # matplotlib for plotting\n",
    "\n",
    "from scipy.sparse import csr_matrix, issparse  # Import necessary functions for sparse matrices\n",
    "from sklearn.neighbors import NearestNeighbors  # Import the NearestNeighbors class from scikit-learn\n",
    "from sklearn.model_selection import train_test_split  # Import function to split data into train, validation, and test sets\n",
    "from sklearn.metrics import mean_squared_error, mean_absolute_error  # Import necessary functions for evaluating predictions"
   ]
  },
  {
   "cell_type": "markdown",
   "metadata": {},
   "source": [
    "<div style=\"text-align:center; background: linear-gradient(to top right, #222, #000); padding: 15px; color:rgb(16, 229, 9);\">\n",
    "    <h1 style=\"font-weight: bold; font-size: 36px;\">1. Preparing Dataset</h1>\n",
    "</div>"
   ]
  },
  {
   "cell_type": "markdown",
   "metadata": {},
   "source": [
    "We will first begin wiht the Movielens dataset"
   ]
  },
  {
   "cell_type": "code",
   "execution_count": 2,
   "metadata": {},
   "outputs": [],
   "source": [
    "# Load Data for rating\n",
    "def loadDataR(path):\n",
    "    header = ['userid', 'itemid', 'rating', 'timestamp']\n",
    "    df_rating= pd.read_csv(path, sep=\"::\", names=header, engine=\"python\")\n",
    "    return df_rating\n",
    "# Load Data for movie\n",
    "def loadDataM(path):\n",
    "    header = ['itemid', 'title', 'genre']\n",
    "    df_movie = pd.read_csv(\n",
    "        path,\n",
    "        sep=\"::\",\n",
    "        names=header,\n",
    "        engine=\"python\",\n",
    "        encoding=\"cp1252\"  # ← handles special characters like é, ñ, etc.\n",
    "    )\n",
    "    return df_movie\n",
    "\n",
    "\n",
    "df_rating=loadDataR(r\"C:\\Users\\RUTA\\Desktop\\masters of digital driven bussines\\SDM\\SDM assigment\\New folder\\movielens\\ratings.dat\")\n",
    "df_movies=loadDataM(r\"C:\\Users\\RUTA\\Desktop\\masters of digital driven bussines\\SDM\\SDM assigment\\New folder\\movielens\\movies.dat\")\n"
   ]
  },
  {
   "cell_type": "code",
   "execution_count": 3,
   "metadata": {},
   "outputs": [
    {
     "data": {
      "text/html": [
       "<div>\n",
       "<style scoped>\n",
       "    .dataframe tbody tr th:only-of-type {\n",
       "        vertical-align: middle;\n",
       "    }\n",
       "\n",
       "    .dataframe tbody tr th {\n",
       "        vertical-align: top;\n",
       "    }\n",
       "\n",
       "    .dataframe thead th {\n",
       "        text-align: right;\n",
       "    }\n",
       "</style>\n",
       "<table border=\"1\" class=\"dataframe\">\n",
       "  <thead>\n",
       "    <tr style=\"text-align: right;\">\n",
       "      <th></th>\n",
       "      <th>userid</th>\n",
       "      <th>itemid</th>\n",
       "      <th>rating</th>\n",
       "      <th>timestamp</th>\n",
       "      <th>title</th>\n",
       "      <th>genre</th>\n",
       "    </tr>\n",
       "  </thead>\n",
       "  <tbody>\n",
       "    <tr>\n",
       "      <th>0</th>\n",
       "      <td>1</td>\n",
       "      <td>1193</td>\n",
       "      <td>5</td>\n",
       "      <td>978300760</td>\n",
       "      <td>One Flew Over the Cuckoo's Nest (1975)</td>\n",
       "      <td>Drama</td>\n",
       "    </tr>\n",
       "    <tr>\n",
       "      <th>1</th>\n",
       "      <td>1</td>\n",
       "      <td>661</td>\n",
       "      <td>3</td>\n",
       "      <td>978302109</td>\n",
       "      <td>James and the Giant Peach (1996)</td>\n",
       "      <td>Animation|Children's|Musical</td>\n",
       "    </tr>\n",
       "    <tr>\n",
       "      <th>2</th>\n",
       "      <td>1</td>\n",
       "      <td>914</td>\n",
       "      <td>3</td>\n",
       "      <td>978301968</td>\n",
       "      <td>My Fair Lady (1964)</td>\n",
       "      <td>Musical|Romance</td>\n",
       "    </tr>\n",
       "    <tr>\n",
       "      <th>3</th>\n",
       "      <td>1</td>\n",
       "      <td>3408</td>\n",
       "      <td>4</td>\n",
       "      <td>978300275</td>\n",
       "      <td>Erin Brockovich (2000)</td>\n",
       "      <td>Drama</td>\n",
       "    </tr>\n",
       "    <tr>\n",
       "      <th>4</th>\n",
       "      <td>1</td>\n",
       "      <td>2355</td>\n",
       "      <td>5</td>\n",
       "      <td>978824291</td>\n",
       "      <td>Bug's Life, A (1998)</td>\n",
       "      <td>Animation|Children's|Comedy</td>\n",
       "    </tr>\n",
       "    <tr>\n",
       "      <th>...</th>\n",
       "      <td>...</td>\n",
       "      <td>...</td>\n",
       "      <td>...</td>\n",
       "      <td>...</td>\n",
       "      <td>...</td>\n",
       "      <td>...</td>\n",
       "    </tr>\n",
       "    <tr>\n",
       "      <th>1000204</th>\n",
       "      <td>6040</td>\n",
       "      <td>1091</td>\n",
       "      <td>1</td>\n",
       "      <td>956716541</td>\n",
       "      <td>Weekend at Bernie's (1989)</td>\n",
       "      <td>Comedy</td>\n",
       "    </tr>\n",
       "    <tr>\n",
       "      <th>1000205</th>\n",
       "      <td>6040</td>\n",
       "      <td>1094</td>\n",
       "      <td>5</td>\n",
       "      <td>956704887</td>\n",
       "      <td>Crying Game, The (1992)</td>\n",
       "      <td>Drama|Romance|War</td>\n",
       "    </tr>\n",
       "    <tr>\n",
       "      <th>1000206</th>\n",
       "      <td>6040</td>\n",
       "      <td>562</td>\n",
       "      <td>5</td>\n",
       "      <td>956704746</td>\n",
       "      <td>Welcome to the Dollhouse (1995)</td>\n",
       "      <td>Comedy|Drama</td>\n",
       "    </tr>\n",
       "    <tr>\n",
       "      <th>1000207</th>\n",
       "      <td>6040</td>\n",
       "      <td>1096</td>\n",
       "      <td>4</td>\n",
       "      <td>956715648</td>\n",
       "      <td>Sophie's Choice (1982)</td>\n",
       "      <td>Drama</td>\n",
       "    </tr>\n",
       "    <tr>\n",
       "      <th>1000208</th>\n",
       "      <td>6040</td>\n",
       "      <td>1097</td>\n",
       "      <td>4</td>\n",
       "      <td>956715569</td>\n",
       "      <td>E.T. the Extra-Terrestrial (1982)</td>\n",
       "      <td>Children's|Drama|Fantasy|Sci-Fi</td>\n",
       "    </tr>\n",
       "  </tbody>\n",
       "</table>\n",
       "<p>1000209 rows × 6 columns</p>\n",
       "</div>"
      ],
      "text/plain": [
       "         userid  itemid  rating  timestamp  \\\n",
       "0             1    1193       5  978300760   \n",
       "1             1     661       3  978302109   \n",
       "2             1     914       3  978301968   \n",
       "3             1    3408       4  978300275   \n",
       "4             1    2355       5  978824291   \n",
       "...         ...     ...     ...        ...   \n",
       "1000204    6040    1091       1  956716541   \n",
       "1000205    6040    1094       5  956704887   \n",
       "1000206    6040     562       5  956704746   \n",
       "1000207    6040    1096       4  956715648   \n",
       "1000208    6040    1097       4  956715569   \n",
       "\n",
       "                                          title  \\\n",
       "0        One Flew Over the Cuckoo's Nest (1975)   \n",
       "1              James and the Giant Peach (1996)   \n",
       "2                           My Fair Lady (1964)   \n",
       "3                        Erin Brockovich (2000)   \n",
       "4                          Bug's Life, A (1998)   \n",
       "...                                         ...   \n",
       "1000204              Weekend at Bernie's (1989)   \n",
       "1000205                 Crying Game, The (1992)   \n",
       "1000206         Welcome to the Dollhouse (1995)   \n",
       "1000207                  Sophie's Choice (1982)   \n",
       "1000208       E.T. the Extra-Terrestrial (1982)   \n",
       "\n",
       "                                   genre  \n",
       "0                                  Drama  \n",
       "1           Animation|Children's|Musical  \n",
       "2                        Musical|Romance  \n",
       "3                                  Drama  \n",
       "4            Animation|Children's|Comedy  \n",
       "...                                  ...  \n",
       "1000204                           Comedy  \n",
       "1000205                Drama|Romance|War  \n",
       "1000206                     Comedy|Drama  \n",
       "1000207                            Drama  \n",
       "1000208  Children's|Drama|Fantasy|Sci-Fi  \n",
       "\n",
       "[1000209 rows x 6 columns]"
      ]
     },
     "execution_count": 3,
     "metadata": {},
     "output_type": "execute_result"
    }
   ],
   "source": [
    "movielens = pd.merge(df_rating, df_movies, on='itemid', how='inner')\n",
    "movielens "
   ]
  },
  {
   "cell_type": "code",
   "execution_count": 4,
   "metadata": {},
   "outputs": [
    {
     "name": "stdout",
     "output_type": "stream",
     "text": [
      "Removing users who have rated less than 2.0% of all movies\n",
      "Filtered dataset size: 893591\n",
      "\n"
     ]
    }
   ],
   "source": [
    "# Filter out users who have rated less than X percent of all movies\n",
    "# Count the number of ratings for each movie and each user\n",
    "ratings_per_movie = movielens.groupby('itemid').size().reset_index(name='ratings_per_movie')\n",
    "ratings_per_user = movielens.groupby('userid').size().reset_index(name='number_rated')\n",
    "\n",
    "# Set the threshold for the minimum percentage of movies a user must have rated\n",
    "threshold_percentage = 0.02\n",
    "print(f'Removing users who have rated less than {threshold_percentage*100}% of all movies')\n",
    "\n",
    "# Filter out users who have rated less than the threshold percentage of movies\n",
    "eligible_users = ratings_per_user[ratings_per_user['number_rated'] / ratings_per_movie.shape[0] > threshold_percentage]\n",
    "movielens = movielens[movielens['userid'].isin(eligible_users['userid'])]\n",
    "\n",
    "print(f'Filtered dataset size: {movielens.shape[0]}\\n')"
   ]
  },
  {
   "cell_type": "code",
   "execution_count": 5,
   "metadata": {},
   "outputs": [],
   "source": [
    "# First, let's select the columns we need: itemid, title and genre\n",
    "movies_unique = movielens[['itemid', 'title', 'genre']]\n",
    "\n",
    "# Next, let's drop any duplicate movies\n",
    "movies_unique = movies_unique.drop_duplicates(subset=['itemid'])\n"
   ]
  },
  {
   "cell_type": "code",
   "execution_count": 6,
   "metadata": {},
   "outputs": [],
   "source": [
    "# Drop title, genres and year from the movielens dataset\n",
    "movielens = movielens.drop(columns=['title', 'genre'])"
   ]
  },
  {
   "cell_type": "markdown",
   "metadata": {},
   "source": [
    "CF can be computationally intensive on large datasets like Netflix or MovieLens.\n",
    "To make experimentation faster and resource-efficient, we reduce the dataset size through **stratified sampling**:\n",
    "- Rather than random sampling, we stratify based on the number of ratings per user to maintain the **distribution of user activity levels**.\n",
    "- This ensures that the sampled dataset is still **representative** of the full dataset's user behavior patterns, which is critical for fair model evaluation. \n",
    "how we did the sampling is, We first measure user activity by counting how many ratings each user has given. Users are then grouped based on their activity level — active users (many ratings) and less active users (few ratings) are treated separately. During sampling, we preserve the original proportion of active and inactive users, ensuring that heavy raters remain equally represented. This maintains the natural rating patterns across popular and niche items. As a result, we obtain a much smaller, yet statistically representative dataset that allows faster model training without compromising behavioral realism.\n",
    "\n",
    "\n",
    "This approach balances **efficiency** with **data integrity**, allowing quicker model iteration without compromising too much on performance fidelity."
   ]
  },
  {
   "cell_type": "code",
   "execution_count": 7,
   "metadata": {},
   "outputs": [
    {
     "name": "stdout",
     "output_type": "stream",
     "text": [
      "Original dataset size: 893591, Sampled dataset size: 89359\n"
     ]
    }
   ],
   "source": [
    "from sklearn.model_selection import train_test_split\n",
    "\n",
    "def stratified_sampling(df, sample_frac=0.1):\n",
    "    \"\"\"\n",
    "    Performs stratified sampling to reduce dataset size while maintaining\n",
    "    proportional representation of user activity levels.\n",
    "    \n",
    "    - `sample_frac`: Fraction of the dataset to keep (e.g., 0.1 for 10%)\n",
    "    \"\"\"\n",
    "    # Step 1: Count number of ratings per user\n",
    "    user_counts = df[\"userid\"].value_counts()\n",
    "\n",
    "    # Step 2: Create a temporary column for stratification\n",
    "    df[\"user_rating_count\"] = df[\"userid\"].map(user_counts)\n",
    "\n",
    "    # Step 3: Apply stratified sampling\n",
    "    df_sampled, _ = train_test_split(df, test_size=(1 - sample_frac), stratify=df[\"user_rating_count\"], random_state=42)\n",
    "\n",
    "    # Step 4: Drop the temporary column\n",
    "    df_sampled = df_sampled.drop(columns=[\"user_rating_count\"])\n",
    "\n",
    "    return df_sampled\n",
    "\n",
    "# Apply stratified sampling (reduce dataset to 10%)\n",
    "df_sampled = stratified_sampling(movielens, sample_frac=0.1)\n",
    "\n",
    "# Print dataset sizes\n",
    "print(f\"Original dataset size: {len(movielens)}, Sampled dataset size: {len(df_sampled)}\")\n"
   ]
  },
  {
   "cell_type": "markdown",
   "metadata": {},
   "source": [
    "We want to visually compare the rating distribution between the main DataFrame (`movielens`) and the sampled DataFrame (`sample_df`). Plotting histograms of the 'rating' column for both datasets allows for a quick visual assessment of any differences or similarities in the rating distribution. This comparison can help evaluate the representativeness of the sampled dataset compared to the original dataset and understand any potential biases introduced during the sampling process."
   ]
  },
  {
   "cell_type": "code",
   "execution_count": 8,
   "metadata": {},
   "outputs": [
    {
     "data": {
      "image/png": "[encoded data removed]",
      "text/plain": [
       "<Figure size 640x480 with 1 Axes>"
      ]
     },
     "metadata": {},
     "output_type": "display_data"
    },
    {
     "data": {
      "image/png": "[encoded data removed]",
      "text/plain": [
       "<Figure size 640x480 with 1 Axes>"
      ]
     },
     "metadata": {},
     "output_type": "display_data"
    }
   ],
   "source": [
    "# Plot the distribution of a specific column in the main DataFrame\n",
    "plt.hist(movielens['rating'], bins=20, color='blue', alpha=0.5, label='Main DataFrame')\n",
    "plt.xlabel('rating')\n",
    "plt.ylabel('Frequency')\n",
    "plt.title('Distribution of ratings in Main DataFrame')\n",
    "plt.legend()\n",
    "plt.show()\n",
    "\n",
    "# Plot the distribution of the same column in the sampled DataFrame\n",
    "plt.hist(df_sampled['rating'], bins=20, color='orange', alpha=0.5, label='Sampled DataFrame')\n",
    "plt.xlabel('rating')\n",
    "plt.ylabel('Frequency')\n",
    "plt.title('Distribution of ratings in Sampled DataFrame')\n",
    "plt.legend()\n",
    "plt.show()"
   ]
  },
  {
   "cell_type": "markdown",
   "metadata": {},
   "source": [
    "Upon comparison of the plots, it is evident that the rating distribution in the sampled data frame closely mirrors that of the original dataset. This observation indicates that the sampling process effectively captured the variability and distribution of ratings in the primary data frame. Hence, the sampled dataset can represent the original dataset regarding rating distribution."
   ]
  },
  {
   "cell_type": "markdown",
   "metadata": {},
   "source": [
    "In User-based KNN, users have personal rating biases — some rate consistently high, others low. If uncorrected, these biases distort similarity calculations and harm prediction quality. To address this, we compute each user’s average rating (user_avg_ratings) and predict deviations from it. During prediction, we add back the user's mean to personalize the final rating. This adjustment normalizes rating habits, improving similarity accuracy, prediction fairness, and the overall recommendation quality."
   ]
  },
  {
   "cell_type": "code",
   "execution_count": 21,
   "metadata": {},
   "outputs": [],
   "source": [
    "# Step 1: Compute average rating per user\n",
    "user_avg = df_sampled.groupby('userid')['rating'].mean().reset_index()\n",
    "user_avg.rename(columns={'rating': 'avgratingperuser'}, inplace=True)\n",
    "\n",
    "# Step 2: Merge and compute rating deviation\n",
    "df_with_avg = df_sampled.merge(user_avg, on='userid')\n",
    "df_with_avg['ratingdeviation_user'] = df_with_avg['rating'] - df_with_avg['avgratingperuser']\n",
    "users = df_with_avg[['userid', 'avgratingperuser', 'ratingdeviation_user']]\n",
    "\n",
    "# Step 3: Properly align user averages for KNN model\n",
    "user_to_index = {uid: idx for idx, uid in enumerate(sorted(df_sampled['userid'].unique()))}\n",
    "userid_to_avg = dict(zip(users['userid'], users['avgratingperuser']))\n",
    "user_avg_ratings = np.array([userid_to_avg[uid] for uid in sorted(user_to_index.keys())])\n"
   ]
  },
  {
   "cell_type": "markdown",
   "metadata": {},
   "source": [
    "Now that we've confirmed the adequacy of the data, we transform it into a matrix. This matrix will represent user-item interactions, where each row corresponds to a user, and each column corresponds to an item (movie). By converting the data into a matrix, we can efficiently analyze and model user-item relationships, facilitating tasks such as recommendation systems and collaborative filtering."
   ]
  },
  {
   "cell_type": "markdown",
   "metadata": {},
   "source": [
    "Making a matrix of the dataset."
   ]
  },
  {
   "cell_type": "code",
   "execution_count": 22,
   "metadata": {},
   "outputs": [],
   "source": [
    "def create_user_item_matrix(df, user_col, item_col, rating_col):\n",
    "    # Count the number of unique users and items in the dataframe\n",
    "    num_users = df[user_col].nunique()\n",
    "    num_items = df[item_col].nunique()\n",
    "\n",
    "    # Create dictionaries to map user and item IDs to their corresponding indices\n",
    "    user_to_index = {user_id: index for index, user_id in enumerate(sorted(df[user_col].unique()))}\n",
    "    item_to_index = {item_id: index for index, item_id in enumerate(sorted(df[item_col].unique()))}\n",
    "\n",
    "    # Initialize lists to store data for creating the sparse user-item matrix\n",
    "    rows = []\n",
    "    cols = []\n",
    "    data = []\n",
    "\n",
    "    # Iterate over each row in the dataframe\n",
    "    for _, row in df.iterrows():\n",
    "        # Get the index of the user and item for the current row\n",
    "        user_index = user_to_index[row[user_col]]\n",
    "        item_index = item_to_index[row[item_col]]\n",
    "        # Get the rating for the current user-item pair\n",
    "        rating = row[rating_col]\n",
    "\n",
    "        # Append the user index, item index, and rating to the respective lists\n",
    "        rows.append(user_index)\n",
    "        cols.append(item_index)\n",
    "        data.append(rating)\n",
    "\n",
    "    # Create a sparse user-item matrix using the data, rows, and columns lists\n",
    "    user_item_matrix = csr_matrix((data, (rows, cols)), shape=(num_users, num_items))\n",
    "\n",
    "    # Return the sparse user-item matrix\n",
    "    return user_item_matrix\n"
   ]
  },
  {
   "cell_type": "code",
   "execution_count": 23,
   "metadata": {},
   "outputs": [
    {
     "name": "stdout",
     "output_type": "stream",
     "text": [
      "  (0, 208)\t3\n",
      "  (0, 1006)\t2\n",
      "  (0, 1014)\t3\n",
      "  (0, 1054)\t5\n",
      "  (0, 1237)\t4\n",
      "  (0, 1298)\t5\n",
      "  (0, 1481)\t4\n",
      "  (0, 1546)\t5\n",
      "  (0, 1555)\t5\n",
      "  (0, 1912)\t4\n",
      "  (0, 2156)\t3\n",
      "  (0, 2358)\t3\n",
      "  (0, 2387)\t3\n",
      "  (0, 2551)\t4\n",
      "  (1, 33)\t4\n",
      "  (1, 49)\t5\n",
      "  (1, 190)\t3\n",
      "  (1, 243)\t3\n",
      "  (1, 263)\t4\n",
      "  (1, 533)\t4\n",
      "  (1, 1138)\t4\n",
      "  (1, 1225)\t3\n",
      "  (1, 1357)\t3\n",
      "  (1, 1379)\t3\n",
      "  (1, 1388)\t4\n",
      "  :\t:\n",
      "  (3481, 747)\t3\n",
      "  (3481, 959)\t3\n",
      "  (3481, 961)\t3\n",
      "  (3481, 973)\t2\n",
      "  (3481, 1011)\t4\n",
      "  (3481, 1025)\t4\n",
      "  (3481, 1055)\t4\n",
      "  (3481, 1075)\t3\n",
      "  (3481, 1140)\t3\n",
      "  (3481, 1348)\t4\n",
      "  (3481, 1349)\t4\n",
      "  (3481, 1392)\t2\n",
      "  (3481, 1452)\t4\n",
      "  (3481, 1563)\t3\n",
      "  (3481, 1610)\t5\n",
      "  (3481, 1874)\t3\n",
      "  (3481, 2110)\t4\n",
      "  (3481, 2259)\t2\n",
      "  (3481, 2265)\t2\n",
      "  (3481, 2417)\t4\n",
      "  (3481, 2578)\t4\n",
      "  (3481, 2584)\t4\n",
      "  (3481, 2779)\t4\n",
      "  (3481, 2921)\t1\n",
      "  (3481, 3096)\t4\n"
     ]
    }
   ],
   "source": [
    "# Since we already a function to create the user-item matrix, we can use it here\n",
    "user_item_matrix = create_user_item_matrix(df_sampled, 'userid', 'itemid', 'rating')\n",
    "print(user_item_matrix)"
   ]
  },
  {
   "cell_type": "markdown",
   "metadata": {},
   "source": [
    "<div style=\"text-align:center; background: linear-gradient(to top right, #222, #000); padding: 20px; color:rgb(9, 229, 46);\">\n",
    "    <h2 style=\"font-weight: bold; font-size: 36px;\">2. Baseline User Based rating Prediction</h2>\n",
    "</div>\n"
   ]
  },
  {
   "cell_type": "markdown",
   "metadata": {},
   "source": [
    "This model aims to provide movie recommendations to a target user, leveraging the preferences of similar users who share the same preferences as the target user. It accomplishes this by analyzing users' movie ratings, identifying movies they have rated highly, and suggesting those unseen movies to the target user. By utilizing similar users' preferences, the model aims to enhance the target user's movie-watching experience by recommending content tailored to their tastes."
   ]
  },
  {
   "cell_type": "code",
   "execution_count": 24,
   "metadata": {},
   "outputs": [
    {
     "name": "stdout",
     "output_type": "stream",
     "text": [
      "Random user: 2081\n"
     ]
    }
   ],
   "source": [
    "# Generate a random integer representing a user index within the range of the number of rows in the user-item matrix\n",
    "random_user = np.random.randint(user_item_matrix.shape[0])\n",
    "# Print the randomly selected user index\n",
    "print(f\"Random user: {random_user}\")"
   ]
  },
  {
   "cell_type": "markdown",
   "metadata": {},
   "source": [
    "The randomly generated userid above corresponds to the user for whom the model will recommend ten movies."
   ]
  },
  {
   "cell_type": "markdown",
   "metadata": {},
   "source": [
    "The MovieRecommendationSystem is designed to generate personalized movie recommendations for a randomly selected user by using collaborative filtering. It begins by comparing the selected user's movie ratings to those of all other users, calculating cosine similarity to measure how closely their preferences match.\n",
    "\n",
    "To refine these comparisons, the system applies a weighting function that adjusts the importance of certain similarities based on specific criteria, allowing for more precise recommendations.\n",
    "\n",
    "After adjusting the similarity scores, the system identifies the users whose tastes most closely align with the selected user. It then analyzes the movies these similar users have rated highly and selects those films as potential recommendations. These movies are ranked based on their average ratings among similar users to ensure that the recommendations remain closely tied to the selected user's preferences.\n",
    "\n",
    "If there are still open spots in the recommendation list, the system supplements it with popular movies the selected user has not yet rated. However, it only adds these popular films if there are not enough high-quality recommendations from similar users.\n",
    "\n",
    "Finally, the system presents the top 10 recommended movies, including their titles, genres, and predicted ratings. By combining collaborative filtering techniques with user similarity metrics, the system delivers personalized movie suggestions that enhance the user's viewing experience and encourage greater engagement with the platform."
   ]
  },
  {
   "cell_type": "code",
   "execution_count": 25,
   "metadata": {},
   "outputs": [],
   "source": [
    "# Function to calculate cosine similarity between vectors\n",
    "def user_user_matrix(vector1, vector2):\n",
    "    # Compute the dot product of the two vectors\n",
    "    dot_product = np.dot(vector1, vector2)\n",
    "    # Compute the product of the L2 norms of the two vectors\n",
    "    norm_product = np.linalg.norm(vector1) * np.linalg.norm(vector2)\n",
    "    # Calculate the cosine similarity by dividing the dot product by the norm product, ensuring not to divide by zero\n",
    "    return dot_product / norm_product if norm_product != 0 else 0\n",
    "\n",
    "def recommend_items(user_item_matrix, selected_user_index, items_not_seen, item_to_index, item_to_name, item_to_category, k=10):\n",
    "    # Calculate cosine similarity between users\n",
    "    similarities = [(i, user_user_matrix(user_item_matrix[selected_user_index, :].toarray().flatten(), user_item_matrix[i, :].toarray().flatten())) \n",
    "                    for i in range(user_item_matrix.shape[0]) if i != selected_user_index]\n",
    "\n",
    "    # Define a weight function to adjust similarities\n",
    "    weight_function = lambda similarity: similarity * 2  # Example: doubling similarity values\n",
    "\n",
    "    # Calculate weighted similarities between users\n",
    "    weighted_similarities = [(i, weight_function(similarity)) for i, similarity in similarities]\n",
    "\n",
    "    # Sort users based on weighted similarities (higher weights indicate stronger similarities)\n",
    "    sorted_weighted_similarities = sorted(weighted_similarities, key=lambda x: x[1], reverse=True)\n",
    "\n",
    "    # Use sorted weighted similarities for further processing (e.g., recommendation generation)\n",
    "    # Select top similar users based on weighted similarities\n",
    "    top_k_weighted_similar_users = sorted_weighted_similarities[:k]\n",
    "\n",
    "    # Find recommended items based on ratings from similar users\n",
    "    recommended_items = {}\n",
    "    for user_index, similarity in top_k_weighted_similar_users:\n",
    "        for item_index in items_not_seen:\n",
    "            # Check if the item has been rated highly by the similar user\n",
    "            if user_item_matrix[user_index, item_index] >= 4:\n",
    "                # Update the recommended items dictionary with the maximum rating for each item\n",
    "                recommended_items[item_index] = max(recommended_items.get(item_index, 0), user_item_matrix[user_index, item_index])\n",
    "\n",
    "    # Sort recommended items by rating in descending order\n",
    "    sorted_recommended_items = sorted(recommended_items.items(), key=lambda x: x[1], reverse=True)\n",
    "\n",
    "    # Complete recommendations if not enough items have been recommended yet\n",
    "    remaining_recommendations = 10 - len(sorted_recommended_items)\n",
    "    if remaining_recommendations > 0:\n",
    "        # Calculate the number of ratings for each item\n",
    "        ratings_per_item = np.asarray((user_item_matrix != 0).sum(axis=0)).flatten()\n",
    "\n",
    "        # Calculate the average rating for each item\n",
    "        sum_ratings_per_item = np.asarray(user_item_matrix.sum(axis=0)).flatten()\n",
    "        average_ratings_per_item = np.divide(sum_ratings_per_item, ratings_per_item, where=ratings_per_item != 0)\n",
    "\n",
    "        # Filter items that the selected user has not seen\n",
    "        unseen_popular_items_indices = [item_index for item_index in items_not_seen if ratings_per_item[item_index] > 0]\n",
    "\n",
    "        # Sort the unseen items based on the number of ratings and average rating\n",
    "        sorted_unseen_popular_items_indices = sorted(unseen_popular_items_indices, key=lambda x: (ratings_per_item[x], average_ratings_per_item[x]), reverse=True)\n",
    "\n",
    "        # Select the top popular unseen items\n",
    "        popular_unseen_items = [(item_index, 0) for item_index in sorted_unseen_popular_items_indices[:remaining_recommendations]]\n",
    "\n",
    "        # Extend the list of recommended items with popular unseen items\n",
    "        sorted_recommended_items.extend(popular_unseen_items)\n",
    "\n",
    "        # Complete recommendations with random unseen items if needed\n",
    "        remaining_random_recommendations = 10 - len(sorted_recommended_items)\n",
    "        if remaining_random_recommendations > 0:\n",
    "            # Select random unseen items from the remaining unseen items\n",
    "            random_unseen_items = [i for i in items_not_seen if i not in [i for i, _ in sorted_recommended_items]]\n",
    "            # Shuffle the list of random unseen items\n",
    "            random.shuffle(random_unseen_items)\n",
    "            # Extend the list of recommended items with random unseen items\n",
    "            sorted_recommended_items.extend(random_unseen_items[:remaining_random_recommendations])\n",
    "\n",
    "    # Display top 10 recommended items\n",
    "    print(f\"Similar users like you ({selected_user_index}) also liked:\")\n",
    "    for i, (item_index, rating) in enumerate(sorted_recommended_items[:10]):\n",
    "        name = item_to_name.get(item_index, \"Unknown Name\")\n",
    "        category = item_to_category.get(item_index)\n",
    "        if category is None:\n",
    "            category = name  # Show the title if no category is available\n",
    "        print(f\"{i+1}. itemid: {item_index}, Name: {name} - Category: {category}, Predicted rating: {rating}\")\n"
   ]
  },
  {
   "cell_type": "markdown",
   "metadata": {},
   "source": [
    "<div style=\"text-align:center; background: linear-gradient(to top right, #222, #000); padding: 20px; color:rgb(9, 229, 57);\">\n",
    "    <h3 style=\"font-weight: bold; font-size: 30px;\">2.1 Baseline Prediction</h3>\n",
    "</div>\n"
   ]
  },
  {
   "cell_type": "markdown",
   "metadata": {},
   "source": [
    "As per usual we first start with the baseline prediction."
   ]
  },
  {
   "cell_type": "code",
   "execution_count": 26,
   "metadata": {},
   "outputs": [
    {
     "name": "stdout",
     "output_type": "stream",
     "text": [
      "Similar users like you (2081) also liked:\n",
      "1. itemid: 1037, Name: Lawnmower Man, The (1992) - Category: Action|Sci-Fi|Thriller, Predicted rating: 5\n",
      "2. itemid: 2364, Name: Godzilla (Gojira) (1984) - Category: Action|Sci-Fi, Predicted rating: 5\n",
      "3. itemid: 922, Name: Sunset Blvd. (a.k.a. Sunset Boulevard) (1950) - Category: Film-Noir, Predicted rating: 5\n",
      "4. itemid: 1237, Name: Seventh Seal, The (Sjunde inseglet, Det) (1957) - Category: Drama, Predicted rating: 5\n",
      "5. itemid: 477, Name: What's Love Got to Do with It? (1993) - Category: Drama, Predicted rating: 5\n",
      "6. itemid: 666, Name: All Things Fair (1996) - Category: Drama, Predicted rating: 5\n",
      "7. itemid: 1865, Name: Wild Man Blues (1998) - Category: Documentary, Predicted rating: 5\n",
      "8. itemid: 1954, Name: Rocky (1976) - Category: Action|Drama, Predicted rating: 5\n",
      "9. itemid: 2475, Name: 52 Pick-Up (1986) - Category: Action|Mystery|Thriller, Predicted rating: 4\n",
      "10. itemid: 2871, Name: Deliverance (1972) - Category: Adventure|Thriller, Predicted rating: 4\n"
     ]
    }
   ],
   "source": [
    "# Sample data: Select a random user index\n",
    "selected_user_index = random_user\n",
    "\n",
    "# Load item titles and genres\n",
    "items = movies_unique.copy()\n",
    "\n",
    "# Create dictionaries mapping item IDs to their titles and genres\n",
    "item_to_name, item_to_category = dict(zip(items['itemid'], items['title'])), dict(zip(items['itemid'], items['genre']))\n",
    "item_to_index = {item_id: index for index, item_id in enumerate(sorted(items['itemid'].unique()))}\n",
    "\n",
    "# Get items that the user has not seen\n",
    "# Find indices of items not yet seen by the selected user\n",
    "items_not_seen_indices = np.where(user_item_matrix[selected_user_index, :].toarray().flatten() == 0)[0]\n",
    "# Filter items not seen by the selected user based on available item indices\n",
    "items_not_seen = [item_index for item_index in items_not_seen_indices if item_index in item_to_index]\n",
    "# Call the function to get recommendations\n",
    "recommend_items(user_item_matrix, selected_user_index, items_not_seen, item_to_index, item_to_name, item_to_category, k=5)\n"
   ]
  },
  {
   "cell_type": "code",
   "execution_count": null,
   "metadata": {},
   "outputs": [],
   "source": []
  },
  {
   "cell_type": "markdown",
   "metadata": {},
   "source": [
    "<div style=\"text-align:center; background: linear-gradient(to top right, #222, #000); padding: 20px; color:rgb(9, 229, 82);\">\n",
    "    <h2 style=\"font-weight: bold; font-size: 36px;\">2.2 Hyperparameter Tuning</h2>\n",
    "</div>\n"
   ]
  },
  {
   "cell_type": "markdown",
   "metadata": {},
   "source": [
    "Now that we have a functional model, our next step is performing hyperparameter tuning. Specifically, in the case of the K-Nearest Neighbors (KNN) algorithm, we aim to determine the optimal value for the hyperparameter K. Hyperparameter tuning involves systematically searching for the best value of K that maximizes the performance of the KNN model. By finding the most suitable K value, we can enhance the accuracy and effectiveness of our recommendation system, ensuring it provides users with the most relevant and accurate movie recommendations."
   ]
  },
  {
   "cell_type": "markdown",
   "metadata": {},
   "source": [
    "We begin by defining several functions essential for fine-tuning the model."
   ]
  },
  {
   "cell_type": "markdown",
   "metadata": {},
   "source": [
    "This function train_test takes a dataframe containing user-item ratings as input and performs the following operations:\n",
    "\n",
    "Removes duplicate entries from the dataframe.\n",
    "Creates a user-item matrix with ratings by pivoting the dataframe, filling missing values with 0.\n",
    "Splits the user-item matrix into train, validation, and test sets using the train_test_split function from scikit-learn.\n",
    "Converts the train, validation, and test datasets into sparse matrices using the csr_matrix function from SciPy.\n",
    "Returns the train, validation, and test datasets as sparse matrices."
   ]
  },
  {
   "cell_type": "code",
   "execution_count": 28,
   "metadata": {},
   "outputs": [],
   "source": [
    "from scipy.sparse import csr_matrix, lil_matrix\n",
    "from sklearn.neighbors import NearestNeighbors\n",
    "from sklearn.metrics import mean_squared_error, mean_absolute_error\n",
    "from sklearn.preprocessing import normalize\n",
    "import numpy as np\n",
    "import pandas as pd\n",
    "from sklearn.metrics.pairwise import cosine_similarity\n",
    "\n",
    "\n",
    "def train_test_sparse(df, user_col='userid', item_col='itemid', rating_col='rating', time_col='timestamp'):\n",
    "    df = df.copy()\n",
    "    df[time_col] = pd.to_datetime(df[time_col], unit='s')\n",
    "\n",
    "    # ➡ Step 1: Filter out users with <5 ratings\n",
    "    user_counts = df[user_col].value_counts()\n",
    "    active_users = user_counts[user_counts >= 5].index\n",
    "    df = df[df[user_col].isin(active_users)]\n",
    "\n",
    "    # ➡ Step 2: Create mappings AFTER filtering\n",
    "    user_to_index = {uid: idx for idx, uid in enumerate(sorted(df[user_col].unique()))}\n",
    "    item_to_index = {iid: idx for idx, iid in enumerate(sorted(df[item_col].unique()))}\n",
    "\n",
    "    df['user_index'] = df[user_col].map(user_to_index)\n",
    "    df['item_index'] = df[item_col].map(item_to_index)\n",
    "\n",
    "    num_users = len(user_to_index)\n",
    "    num_items = len(item_to_index)\n",
    "\n",
    "    # ➡ Step 3: Initialize sparse matrices\n",
    "    train = lil_matrix((num_users, num_items), dtype=np.float32)\n",
    "    val = lil_matrix((num_users, num_items), dtype=np.float32)\n",
    "    test = lil_matrix((num_users, num_items), dtype=np.float32)\n",
    "\n",
    "    # ➡ Step 4: Time-aware split\n",
    "    for user_idx, group in df.groupby('user_index'):\n",
    "        group_sorted = group.sort_values(time_col)\n",
    "        n = len(group_sorted)\n",
    "\n",
    "        train_end = int(n * 0.6)\n",
    "        val_end = int(n * 0.8)\n",
    "\n",
    "        for _, row in group_sorted.iloc[:train_end].iterrows():\n",
    "            train[row['user_index'], row['item_index']] = row[rating_col]\n",
    "        for _, row in group_sorted.iloc[train_end:val_end].iterrows():\n",
    "            val[row['user_index'], row['item_index']] = row[rating_col]\n",
    "        for _, row in group_sorted.iloc[val_end:].iterrows():\n",
    "            test[row['user_index'], row['item_index']] = row[rating_col]\n",
    "\n",
    "    return train.tocsr(), val.tocsr(), test.tocsr(), user_to_index, item_to_index\n"
   ]
  },
  {
   "cell_type": "markdown",
   "metadata": {},
   "source": [
    "The function `evaluate_predictions` assesses prediction models' accuracy by calculating two key metrics: Root Mean Squared Error (RMSE) and Mean Absolute Error (MAE). \n"
   ]
  },
  {
   "cell_type": "code",
   "execution_count": null,
   "metadata": {},
   "outputs": [],
   "source": [
    "def evaluate_predictions(pred_matrix, truth_matrix):\n",
    "    rows, cols = truth_matrix.nonzero()\n",
    "    truth = []\n",
    "    pred = []\n",
    "\n",
    "    for u, i in zip(rows, cols):\n",
    "        truth.append(truth_matrix[u, i])\n",
    "        pred.append(pred_matrix[u, i])\n",
    "\n",
    "    truth = np.array(truth).flatten()\n",
    "    pred = np.array(pred).flatten()\n",
    "\n",
    "    rmse = np.sqrt(mean_squared_error(truth, pred))\n",
    "    mae = mean_absolute_error(truth, pred)\n",
    "    return rmse, mae\n"
   ]
  },
  {
   "cell_type": "markdown",
   "metadata": {},
   "source": [
    "This function `predict_user_based_knn_with_mean` predicts user-item ratings using a user-based K-nearest neighbors (UserKNN) approach with mean-centering based on the computed user means from the training data. It first calculates each user's average rating and centers the training matrix by subtracting these averages. Then it computes cosine similarity between users on the mean-centered matrix. For each nonzero entry in the target matrix, it identifies the k most similar users (excluding the user itself), aggregates their centered ratings weighted by the similarity scores, and adds back the user's mean rating to predict the final score. If none of the neighbors rated the item, the user's mean rating is used as a fallback prediction.\n"
   ]
  },
  {
   "cell_type": "code",
   "execution_count": 30,
   "metadata": {},
   "outputs": [],
   "source": [
    "def predict_user_based_knn_with_mean(train_matrix, target_matrix, k=5):\n",
    "    num_users, num_items = train_matrix.shape\n",
    "\n",
    "    # Step 1: Compute user mean ratings\n",
    "    user_means = np.array(train_matrix.sum(axis=1)).flatten() / (train_matrix != 0).sum(axis=1).A1\n",
    "    user_means = np.nan_to_num(user_means)\n",
    "\n",
    "    # Step 2: Mean-center train matrix (copy to avoid mutation)\n",
    "    train_centered = train_matrix.copy().tolil()\n",
    "    for u in range(num_users):\n",
    "        for i in train_centered.rows[u]:\n",
    "            train_centered[u, i] -= user_means[u]\n",
    "    train_centered = train_centered.tocsr()\n",
    "\n",
    "    # Step 3: Compute user-user cosine similarity\n",
    "    similarity = cosine_similarity(train_centered)\n",
    "\n",
    "    # Step 4: Predict for each nonzero entry in target matrix\n",
    "    predictions = np.zeros(target_matrix.shape)\n",
    "\n",
    "    for u in range(num_users):\n",
    "        sim_users = similarity[u]\n",
    "        top_k_users = np.argsort(sim_users)[-k-1:-1][::-1]  # top K excluding self\n",
    "\n",
    "        for i in target_matrix[u].nonzero()[1]:\n",
    "            num, denom = 0.0, 0.0\n",
    "            for v in top_k_users:\n",
    "                r = train_centered[v, i]\n",
    "                if r != 0:\n",
    "                    num += sim_users[v] * r\n",
    "                    denom += abs(sim_users[v])\n",
    "            if denom != 0:\n",
    "                pred = num / denom + user_means[u]\n",
    "            else:\n",
    "                pred = user_means[u]  # fallback\n",
    "            predictions[u, i] = pred\n",
    "\n",
    "    return predictions\n"
   ]
  },
  {
   "cell_type": "markdown",
   "metadata": {},
   "source": [
    "\n",
    "This function `calculate_weighted_knn_prediction_with_avg` also performs user-based K-nearest neighbors (UserKNN) prediction with mean-centering, but instead of computing user means from the training data, it uses externally provided user average ratings (for example, precomputed averages from a different sampling process). The function first centers the training matrix using these given averages, computes cosine similarity between users based on the centered data, and predicts ratings for nonzero entries in the target matrix. It selects the k most similar users for each prediction, weights their contributions by similarity scores, and re-adds the user’s provided average rating to generate the final prediction. If no neighbors contribute, the user’s average rating is used as a default."
   ]
  },
  {
   "cell_type": "code",
   "execution_count": 31,
   "metadata": {},
   "outputs": [],
   "source": [
    "def calculate_weighted_knn_prediction_with_avg(train_matrix, target_matrix, user_avg_ratings, k=5):\n",
    "    num_users, num_items = train_matrix.shape\n",
    "\n",
    "    # Step 1: Mean-center train matrix (copy to avoid mutation)\n",
    "    train_centered = train_matrix.copy().tolil()\n",
    "    for u in range(num_users):\n",
    "        for i in train_centered.rows[u]:\n",
    "            train_centered[u, i] -= user_avg_ratings[u]\n",
    "    train_centered = train_centered.tocsr()\n",
    "\n",
    "    # Step 2: Compute cosine similarity\n",
    "    similarity = cosine_similarity(train_centered)\n",
    "\n",
    "    # Step 3: Predict for each nonzero entry in target matrix\n",
    "    predictions = np.zeros(target_matrix.shape)\n",
    "\n",
    "    for u in range(num_users):\n",
    "        sim_users = similarity[u]\n",
    "        top_k_users = np.argsort(sim_users)[-k-1:-1][::-1]  # top K excluding self\n",
    "\n",
    "        for i in target_matrix[u].nonzero()[1]:\n",
    "            num, denom = 0.0, 0.0\n",
    "            for v in top_k_users:\n",
    "                r = train_centered[v, i]\n",
    "                if r != 0:\n",
    "                    num += sim_users[v] * r\n",
    "                    denom += abs(sim_users[v])\n",
    "            if denom != 0:\n",
    "                pred = num / denom + user_avg_ratings[u]\n",
    "            else:\n",
    "                pred = user_avg_ratings[u]  # fallback\n",
    "            predictions[u, i] = pred\n",
    "\n",
    "    return predictions\n"
   ]
  },
  {
   "cell_type": "markdown",
   "metadata": {},
   "source": [
    "The function `hyper_parameter_tuning_knn` tunes the number of neighbors (k) for UserKNN using validation RMSE over multiple iterations, with optional external user averages."
   ]
  },
  {
   "cell_type": "code",
   "execution_count": 32,
   "metadata": {},
   "outputs": [],
   "source": [
    "def hyperparameter_tuning_user_knn(dataset, iterations=3, k_values=None, use_avg_ratings_option=False, user_avg_ratings=None, user_col='userid', item_col='itemid', rating_col='rating', time_col='timestamp'):\n",
    "    if k_values is None:\n",
    "        k_values = [5, 10, 20, 30, 40, 50]\n",
    "\n",
    "    results = []\n",
    "\n",
    "    for k in k_values:\n",
    "        rmse_list, mae_list = [], []\n",
    "\n",
    "        for _ in range(iterations):\n",
    "            train_mat, val_mat, _, _, _ = train_test_sparse(\n",
    "                dataset,\n",
    "                user_col=user_col,\n",
    "                item_col=item_col,\n",
    "                rating_col=rating_col,\n",
    "                time_col=time_col\n",
    "            )\n",
    "\n",
    "            if use_avg_ratings_option:\n",
    "                pred = calculate_weighted_knn_prediction_with_avg(train_mat, val_mat, user_avg_ratings, k=k)\n",
    "            else:\n",
    "                pred = predict_user_based_knn_with_mean(train_mat, val_mat, k=k)\n",
    "\n",
    "            rmse, mae = evaluate_predictions(pred, val_mat)\n",
    "\n",
    "            rmse_list.append(rmse)\n",
    "            mae_list.append(mae)\n",
    "\n",
    "        avg_rmse = np.mean(rmse_list)\n",
    "        avg_mae = np.mean(mae_list)\n",
    "\n",
    "        print(f\"[k={k}] RMSE={avg_rmse:.4f}, MAE={avg_mae:.4f}\")\n",
    "        results.append((avg_rmse, avg_mae, k))\n",
    "\n",
    "    best = sorted(results, key=lambda x: x[0])[0]\n",
    "    print(f\"\\nBest k: {best[2]} → Validation RMSE={best[0]:.4f}, MAE={best[1]:.4f}\")\n",
    "    return best\n"
   ]
  },
  {
   "cell_type": "markdown",
   "metadata": {},
   "source": [
    "The line of code initiates hyperparameter tuning for the KNN (K-Nearest Neighbors) model, an essential step in model development. By passing the `sample_df` dataset the function `hyper_parameter_tuning_knn` undertakes multiple iterations of hyperparameter optimization. This iterative approach allows for a thorough exploration of the hyperparameter space, aiming to find the most effective model configuration. Upon completion of the tuning process, the best hyperparameters for the KNN model are stored in the variable `best_parameters_normal` and are ready for subsequent model training and evaluation. Hyperparameter tuning is crucial for optimizing model performance and enhancing predictive accuracy in machine learning applications."
   ]
  },
  {
   "cell_type": "code",
   "execution_count": 47,
   "metadata": {},
   "outputs": [
    {
     "name": "stdout",
     "output_type": "stream",
     "text": [
      "[k=5] RMSE=1.0930, MAE=0.8572\n",
      "[k=10] RMSE=1.1056, MAE=0.8649\n",
      "[k=20] RMSE=1.1314, MAE=0.8801\n",
      "[k=30] RMSE=1.1530, MAE=0.8963\n",
      "[k=40] RMSE=1.1653, MAE=0.9061\n",
      "[k=50] RMSE=1.1788, MAE=0.9174\n",
      "\n",
      "Best k: 5 → Validation RMSE=1.0930, MAE=0.8572\n"
     ]
    }
   ],
   "source": [
    "best_result = hyperparameter_tuning_user_knn(df_sampled, iterations=2, k_values=[5, 10, 20, 30, 40, 50], use_avg_ratings_option=False,           \n",
    "    user_avg_ratings=user_avg_ratings,       \n",
    "    user_col='userid',\n",
    "    item_col='itemid',\n",
    "    rating_col='rating',\n",
    "    time_col='timestamp')\n",
    "\n"
   ]
  },
  {
   "cell_type": "markdown",
   "metadata": {},
   "source": [
    "Observations:\n",
    "- As the value of k increases, RMSE and MAE generally increase, indicating a decrease in prediction accuracy.\n",
    "- The best performance, in terms of both RMSE and MAE, is achieved when k=5, with RMSE=1.0930, MAE=0.8572\n",
    "\n",
    "Therefore, when using cosine similarity without averaging ratings per user, it is optimal to choose k=5 to achieve the best prediction accuracy based on the provided data."
   ]
  },
  {
   "cell_type": "code",
   "execution_count": null,
   "metadata": {},
   "outputs": [],
   "source": []
  },
  {
   "cell_type": "markdown",
   "metadata": {},
   "source": [
    "After our baseline we perform hyperparameter tuning, we can use all of our previous functions again."
   ]
  },
  {
   "cell_type": "markdown",
   "metadata": {},
   "source": [
    "<div style=\"text-align:center; background: linear-gradient(to top right, #222, #000); padding: 20px; color:rgb(9, 229, 9);\">\n",
    "    <h2 style=\"font-weight: bold; font-size: 36px;\">2.3 Using Best Hyperparameter for user-based KNN</h2>\n",
    "</div>\n"
   ]
  },
  {
   "cell_type": "markdown",
   "metadata": {},
   "source": [
    "Below we created a function to test our KNN model."
   ]
  },
  {
   "cell_type": "code",
   "execution_count": 48,
   "metadata": {},
   "outputs": [],
   "source": [
    "def test_user_knn_model(dataset, best_k, use_avg_ratings_option=False, user_avg_ratings=None, user_col='userid', item_col='itemid', rating_col='rating', time_col='timestamp'):\n",
    "    # Full time-aware split\n",
    "    train_mat, _, test_mat, _, _ = train_test_sparse(\n",
    "        dataset, \n",
    "        user_col=user_col, \n",
    "        item_col=item_col, \n",
    "        rating_col=rating_col, \n",
    "        time_col=time_col\n",
    "    )\n",
    "\n",
    "    # Predict depending if average rating correction is enabled\n",
    "    if use_avg_ratings_option:\n",
    "        test_pred = calculate_weighted_knn_prediction_with_avg(train_mat, test_mat, user_avg_ratings, k=best_k)\n",
    "    else:\n",
    "        test_pred = predict_user_based_knn_with_mean(train_mat, test_mat, k=best_k)\n",
    "\n",
    "    # Evaluate\n",
    "    rmse_test, mae_test = evaluate_predictions(test_pred, test_mat)\n",
    "    print(f\"[TEST] Final model with k={best_k} → RMSE={rmse_test:.4f}, MAE={mae_test:.4f}\")\n",
    "\n",
    "    return rmse_test, mae_test\n"
   ]
  },
  {
   "cell_type": "code",
   "execution_count": 49,
   "metadata": {},
   "outputs": [
    {
     "name": "stdout",
     "output_type": "stream",
     "text": [
      "[TEST] Final model with k=5 → RMSE=1.1317, MAE=0.8883\n"
     ]
    }
   ],
   "source": [
    "final_k = best_result[2]  # Extract best k from tuning\n",
    "test_rmse, test_mae = test_user_knn_model(df_sampled, best_k=final_k)"
   ]
  },
  {
   "cell_type": "code",
   "execution_count": 50,
   "metadata": {},
   "outputs": [
    {
     "name": "stdout",
     "output_type": "stream",
     "text": [
      "Similar users like you (2081) also liked:\n",
      "1. itemid: 1037, Name: Lawnmower Man, The (1992) - Category: Action|Sci-Fi|Thriller, Predicted rating: 5\n",
      "2. itemid: 2364, Name: Godzilla (Gojira) (1984) - Category: Action|Sci-Fi, Predicted rating: 5\n",
      "3. itemid: 922, Name: Sunset Blvd. (a.k.a. Sunset Boulevard) (1950) - Category: Film-Noir, Predicted rating: 5\n",
      "4. itemid: 1237, Name: Seventh Seal, The (Sjunde inseglet, Det) (1957) - Category: Drama, Predicted rating: 5\n",
      "5. itemid: 477, Name: What's Love Got to Do with It? (1993) - Category: Drama, Predicted rating: 5\n",
      "6. itemid: 666, Name: All Things Fair (1996) - Category: Drama, Predicted rating: 5\n",
      "7. itemid: 1865, Name: Wild Man Blues (1998) - Category: Documentary, Predicted rating: 5\n",
      "8. itemid: 1954, Name: Rocky (1976) - Category: Action|Drama, Predicted rating: 5\n",
      "9. itemid: 2475, Name: 52 Pick-Up (1986) - Category: Action|Mystery|Thriller, Predicted rating: 4\n",
      "10. itemid: 2871, Name: Deliverance (1972) - Category: Adventure|Thriller, Predicted rating: 4\n"
     ]
    }
   ],
   "source": [
    "\n",
    "# Call the function to get recommendations with the best K to see if we get different results from our baseline prediction recommender \n",
    "recommend_items(user_item_matrix, selected_user_index, items_not_seen, item_to_index, item_to_name, item_to_category, k=final_k)"
   ]
  },
  {
   "cell_type": "markdown",
   "metadata": {},
   "source": [
    "<div style=\"text-align:center; background: linear-gradient(to top right, #222, #000); padding: 20px; color:rgb(9, 229, 75);\">\n",
    "    <h1 style=\"font-weight: bold; font-size: 36px;\">3. User-based classification using KNN</h1>\n",
    "</div>\n"
   ]
  },
  {
   "cell_type": "markdown",
   "metadata": {},
   "source": [
    "Now that we've utilized predictions, our next step is to classify users to identify similarities among them. This classification task can be accomplished using the KNN algorithm."
   ]
  },
  {
   "cell_type": "code",
   "execution_count": 51,
   "metadata": {},
   "outputs": [
    {
     "name": "stdout",
     "output_type": "stream",
     "text": [
      "2081\n"
     ]
    }
   ],
   "source": [
    "# To freshen up our mind, we print the random user we used before again.\n",
    "print(random_user)"
   ]
  },
  {
   "cell_type": "markdown",
   "metadata": {},
   "source": [
    "The function, `user_user_similarity`, aims to calculate the similarities between a selected user and other users based on their interactions with items. It first converts a sparse matrix representing these interactions into a dense array for easy computation. Then, it iterates over each user, except the selected one, computing the cosine similarity between their interaction vectors. The function returns a list of tuples, each containing the index of another user and their similarity score with the selected user. Afterwards, a random user index is chosen, and similarities between this user and others are calculated. The resulting similarities are sorted in descending order, and the top 20 similar users are displayed along with their similarity scores. Overall, the code facilitates the analysis of user-user similarities in item interaction data."
   ]
  },
  {
   "cell_type": "code",
   "execution_count": 52,
   "metadata": {},
   "outputs": [
    {
     "name": "stdout",
     "output_type": "stream",
     "text": [
      "Users similar to user 2081:\n",
      "User 95 - Similarity: 0.20\n",
      "User 308 - Similarity: 0.18\n",
      "User 865 - Similarity: 0.17\n",
      "User 3030 - Similarity: 0.17\n",
      "User 2925 - Similarity: 0.17\n",
      "User 1160 - Similarity: 0.16\n",
      "User 2254 - Similarity: 0.16\n",
      "User 1756 - Similarity: 0.16\n",
      "User 414 - Similarity: 0.15\n",
      "User 3408 - Similarity: 0.15\n",
      "User 1422 - Similarity: 0.15\n",
      "User 1457 - Similarity: 0.14\n",
      "User 2891 - Similarity: 0.14\n",
      "User 3042 - Similarity: 0.14\n",
      "User 2904 - Similarity: 0.14\n",
      "User 2516 - Similarity: 0.14\n",
      "User 2666 - Similarity: 0.14\n",
      "User 1751 - Similarity: 0.13\n",
      "User 2332 - Similarity: 0.13\n",
      "User 1923 - Similarity: 0.13\n"
     ]
    }
   ],
   "source": [
    "# Define a function to calculate user-user similarity\n",
    "def user_user_similarity(user_item_matrix, selected_user_index):\n",
    "    # Convert the sparse matrix to a dense array\n",
    "    user_item_matrix_dense = user_item_matrix.toarray()\n",
    "\n",
    "    # Calculate cosine similarity between the selected user and other users\n",
    "    similarities = []  # Initialize a list to store user similarities\n",
    "    selected_user_vector = user_item_matrix_dense[selected_user_index]  # Get the vector for the selected user\n",
    "    for i in range(user_item_matrix_dense.shape[0]):  # Iterate over all users\n",
    "        if i != selected_user_index:  # Skip the selected user\n",
    "            other_user_vector = user_item_matrix_dense[i]  # Get the vector for another user\n",
    "            # Calculate cosine similarity between the selected user and another user\n",
    "            similarity = np.dot(selected_user_vector, other_user_vector) / (np.linalg.norm(selected_user_vector) * np.linalg.norm(other_user_vector))\n",
    "            similarities.append((i, similarity))  # Store the similarity between users\n",
    "    return similarities  # Return list of user similarities\n",
    "\n",
    "# Sample data: Select a random user index\n",
    "selected_user_index = random_user\n",
    "\n",
    "# Calculate similarities between the selected user and other users\n",
    "similarities = user_user_similarity(user_item_matrix, selected_user_index)\n",
    "\n",
    "# Sort the similarities in descending order\n",
    "sorted_similarities = sorted(similarities, key=lambda x: x[1], reverse=True)\n",
    "\n",
    "# Display similar users\n",
    "print(f\"Users similar to user {selected_user_index}:\")\n",
    "for user_index, similarity in sorted_similarities[:20]:  # Display top X similar users\n",
    "    print(f\"User {user_index} - Similarity: {similarity:.2f}\")  # Print user index and similarity score\n"
   ]
  },
  {
   "cell_type": "markdown",
   "metadata": {},
   "source": [
    "<div style=\"text-align:center; background: linear-gradient(to top right, #222, #000); padding: 20px; color:rgb(9, 229, 57);\">\n",
    "    <h2 style=\"font-weight: bold; font-size: 36px;\">4. Predicting Using Similarity on Average rating per User </h2>\n",
    "</div>"
   ]
  },
  {
   "cell_type": "markdown",
   "metadata": {},
   "source": [
    "The previous predictions were done by finding users who rated similar movies high, in this section we will look into another feature: average rating per user."
   ]
  },
  {
   "cell_type": "markdown",
   "metadata": {},
   "source": [
    "<div style=\"text-align:center; background: linear-gradient(to top right, #222, #000); padding: 20px; color:rgb(9, 229, 27);\">\n",
    "    <h2 style=\"font-weight: bold; font-size: 36px;\">4.1 Baseline Prediction </h2>\n",
    "</div>"
   ]
  },
  {
   "cell_type": "markdown",
   "metadata": {},
   "source": [
    "The functions `user_user_matrix` and `recommend_items_with_avg_rating_user` work together to recommend items to a user based on the preferences of similar users. The process works as follows:\n",
    "\n",
    "1. **Calculate Similarities**: It measures how similar the selected user is to all other users based on their item interaction vectors, using cosine similarity.\n",
    "\n",
    "2. **Adjust Similarities**: It adjusts the similarity scores by weighting them based on the difference in users' average ratings. Users who have similar tastes and similar rating habits are weighted more heavily.\n",
    "\n",
    "3. **Select Top Similar Users**: It selects the top `k` users who are most similar to the selected user after weighting.\n",
    "\n",
    "4. **Recommend Highly Rated Items**: It identifies items that these top similar users rated highly (with a rating of 4 or above) and recommends them to the selected user, ensuring they are items the user has not seen yet.\n",
    "\n",
    "5. **Fill Remaining Recommendations**: If there are fewer than 10 recommendations, it adds popular unseen items, prioritizing items with more ratings and higher average ratings.\n",
    "\n",
    "6. **Random Fill-in if Needed**: If there are still fewer than 10 items, it randomly selects unseen items to complete the recommendation list.\n",
    "\n",
    "7. **Display Recommendations**: Finally, it prints the top 10 recommended items, showing the item ID, name, category, and predicted rating to help the user understand the suggestions.\n"
   ]
  },
  {
   "cell_type": "code",
   "execution_count": 63,
   "metadata": {},
   "outputs": [
    {
     "name": "stdout",
     "output_type": "stream",
     "text": [
      "Similar users like you (2081) also loved:\n",
      "1. itemid: 2364, Name: Godzilla (Gojira) (1984) - Category: Action|Sci-Fi, Predicted rating: 5\n",
      "2. itemid: 2966, Name: Straight Story, The (1999) - Category: Drama, Predicted rating: 5\n",
      "3. itemid: 961, Name: Little Lord Fauntleroy (1936) - Category: Drama, Predicted rating: 5\n",
      "4. itemid: 1569, Name: My Best Friend's Wedding (1997) - Category: Comedy|Romance, Predicted rating: 5\n",
      "5. itemid: 922, Name: Sunset Blvd. (a.k.a. Sunset Boulevard) (1950) - Category: Film-Noir, Predicted rating: 5\n",
      "6. itemid: 1237, Name: Seventh Seal, The (Sjunde inseglet, Det) (1957) - Category: Drama, Predicted rating: 5\n",
      "7. itemid: 533, Name: Shadow, The (1994) - Category: Action, Predicted rating: 5\n",
      "8. itemid: 867, Name: Carpool (1996) - Category: Comedy|Crime, Predicted rating: 5\n",
      "9. itemid: 1889, Name: Insomnia (1997) - Category: Thriller, Predicted rating: 5\n",
      "10. itemid: 1422, Name: Murder at 1600 (1997) - Category: Mystery|Thriller, Predicted rating: 5\n"
     ]
    }
   ],
   "source": [
    "# Function to calculate the cosine similarity between two vectors\n",
    "def user_user_matrix(vector1, vector2):\n",
    "    dot_product = np.dot(vector1, vector2)  # Calculate dot product of the two vectors\n",
    "    norm_product = np.linalg.norm(vector1) * np.linalg.norm(vector2)  # Calculate product of their norms\n",
    "    return dot_product / norm_product if norm_product != 0 else 0  # Return cosine similarity if denominator is not zero, otherwise return 0\n",
    "\n",
    "def recommend_items_with_avg_rating_user(user_item_matrix, selected_user_index, items_not_seen, item_to_index, item_to_name, item_to_category, user_avg_ratings, k=10):\n",
    "    # Calculate similarities between the selected user and other users\n",
    "    similarities = [(i, user_user_matrix(user_item_matrix[selected_user_index, :].toarray().flatten(), user_item_matrix[i, :].toarray().flatten())) \n",
    "                    for i in range(user_item_matrix.shape[0]) if i != selected_user_index]\n",
    "\n",
    "    # Define a weight function to adjust similarities based on average ratings\n",
    "    selected_user_avg_rating = user_avg_ratings[selected_user_index]\n",
    "    weight_function = lambda similarity, avg_rating: similarity * (1 + abs(selected_user_avg_rating - avg_rating))\n",
    "\n",
    "    # Apply the weight function to similarities\n",
    "    weighted_similarities = [(i, weight_function(similarity, user_avg_ratings[i])) for i, similarity in similarities]\n",
    "\n",
    "    # Sort the weighted similarities in descending order\n",
    "    sorted_weighted_similarities = sorted(weighted_similarities, key=lambda x: x[1], reverse=True)\n",
    "\n",
    "    # Select the top k similar users\n",
    "    top_k_weighted_similar_users = sorted_weighted_similarities[:k]\n",
    "\n",
    "    # Initialize a dictionary to store recommended items\n",
    "    recommended_items = {}\n",
    "\n",
    "    # Iterate through top similar users and unseen items to recommend\n",
    "    for user_index, similarity in top_k_weighted_similar_users:\n",
    "        for item_index in items_not_seen:\n",
    "            if user_item_matrix[user_index, item_index] >= 4:  # If the user rated the item highly\n",
    "                recommended_items[item_index] = max(recommended_items.get(item_index, 0), user_item_matrix[user_index, item_index])  # Update recommendation if necessary\n",
    "\n",
    "    # Sort recommended items by predicted rating\n",
    "    sorted_recommended_items = sorted(recommended_items.items(), key=lambda x: x[1], reverse=True)\n",
    "\n",
    "    # Ensure we have at most 10 recommendations\n",
    "    remaining_recommendations = 10 - len(sorted_recommended_items)\n",
    "    if remaining_recommendations > 0:\n",
    "        # Calculate the number of ratings for each item\n",
    "        ratings_per_item = np.asarray((user_item_matrix != 0).sum(axis=0)).flatten()\n",
    "\n",
    "        # Calculate the average rating for each item\n",
    "        sum_ratings_per_item = np.asarray(user_item_matrix.sum(axis=0)).flatten()\n",
    "        average_ratings_per_item = np.divide(sum_ratings_per_item, ratings_per_item, where=ratings_per_item != 0)\n",
    "\n",
    "        # Filter items that the selected user has not seen\n",
    "        unseen_popular_items_indices = [item_index for item_index in items_not_seen if ratings_per_item[item_index] > 0]\n",
    "\n",
    "        # Sort the unseen items based on the number of ratings and average rating\n",
    "        sorted_unseen_popular_items_indices = sorted(unseen_popular_items_indices, key=lambda x: (ratings_per_item[x], average_ratings_per_item[x]), reverse=True)\n",
    "\n",
    "        # Select the top popular unseen items\n",
    "        popular_unseen_items = [(item_index, 0) for item_index in sorted_unseen_popular_items_indices[:remaining_recommendations]]\n",
    "\n",
    "        # Extend recommendations with popular unseen items\n",
    "        sorted_recommended_items.extend(popular_unseen_items)\n",
    "\n",
    "        # Ensure we still have at most 10 recommendations\n",
    "        remaining_random_recommendations = 10 - len(sorted_recommended_items)\n",
    "        if remaining_random_recommendations > 0:\n",
    "            # Add random unseen items to reach 10 recommendations\n",
    "            random_unseen_items = [i for i in items_not_seen if i not in [i for i, _ in sorted_recommended_items]]\n",
    "            random.shuffle(random_unseen_items)\n",
    "            sorted_recommended_items.extend(random_unseen_items[:remaining_random_recommendations])\n",
    "\n",
    "    # Print recommended items\n",
    "    print(f\"Similar users like you ({selected_user_index}) also loved:\")\n",
    "    for i, (item_index, rating) in enumerate(sorted_recommended_items[:10]):\n",
    "        name = item_to_name.get(item_index, \"Unknown Name\")\n",
    "        category = item_to_category.get(item_index, \"Unknown Category\")\n",
    "        print(f\"{i+1}. itemid: {item_index}, Name: {name} - Category: {category}, Predicted rating: {rating}\")\n",
    "\n",
    "# Call the function to get recommendations\n",
    "recommend_items_with_avg_rating_user(user_item_matrix, selected_user_index, items_not_seen, item_to_index, item_to_name, item_to_category, user_avg_ratings, k=10)"
   ]
  },
  {
   "cell_type": "markdown",
   "metadata": {},
   "source": [
    "<div style=\"text-align:center; background: linear-gradient(to top right, #222, #000); padding: 20px; color:rgb(9, 229, 20);\">\n",
    "    <h2 style=\"font-weight: bold; font-size: 36px;\">4.2 Hyperparameter tuning </h2>\n",
    "</div>"
   ]
  },
  {
   "cell_type": "markdown",
   "metadata": {},
   "source": [
    "Now that we have established our baseline, we proceed with the usual hyperparameter tuning process."
   ]
  },
  {
   "cell_type": "code",
   "execution_count": 54,
   "metadata": {},
   "outputs": [
    {
     "name": "stdout",
     "output_type": "stream",
     "text": [
      "[k=5] RMSE=1.2245, MAE=0.9689\n",
      "[k=10] RMSE=1.2336, MAE=0.9754\n",
      "[k=20] RMSE=1.2472, MAE=0.9852\n",
      "[k=30] RMSE=1.2635, MAE=0.9956\n",
      "[k=40] RMSE=1.2766, MAE=1.0051\n",
      "[k=50] RMSE=1.2892, MAE=1.0146\n",
      "\n",
      "Best k: 5 → Validation RMSE=1.2245, MAE=0.9689\n"
     ]
    }
   ],
   "source": [
    "# Now doing some hyperparameter tuning with average ratings\n",
    "best_parameters_with_avg = hyperparameter_tuning_user_knn(df_sampled, iterations=2, k_values=[5, 10, 20, 30, 40, 50], use_avg_ratings_option=True,           \n",
    "    user_avg_ratings=user_avg_ratings,       \n",
    "    user_col='userid',\n",
    "    item_col='itemid',\n",
    "    rating_col='rating',\n",
    "    time_col='timestamp')"
   ]
  },
  {
   "cell_type": "markdown",
   "metadata": {},
   "source": [
    "Observations:\n",
    "\n",
    "- The RMSE and MAE decrease as the value of k (number of neighbours) increases.\n",
    "- As k increases, the model performs better in prediction accuracy.\n",
    "- The best performance is achieved when k=5, with RMSE=1.2245, MAE=0.9689.\n",
    "\n",
    "Therefore, when employing cosine similarity with average ratings per user, choosing a K=5 to achieve the best prediction accuracy based on the given data is optimal."
   ]
  },
  {
   "cell_type": "markdown",
   "metadata": {},
   "source": [
    "After hyperparameter tuning we use the best found K on the test set."
   ]
  },
  {
   "cell_type": "code",
   "execution_count": 60,
   "metadata": {},
   "outputs": [
    {
     "name": "stdout",
     "output_type": "stream",
     "text": [
      "[TEST] Final model with k=5 → RMSE=1.2391, MAE=0.9827\n",
      "Results for approach with average ratings per user: Test RMSE: 1.2391, Test MAE: 0.9827\n"
     ]
    }
   ],
   "source": [
    "best_k_with_avg = best_result[2]  # Extract best k from tuning\n",
    "# Testing the model with the best k and average ratings \n",
    "test_rmse_with_avg, test_mae_with_avg = test_user_knn_model(df_sampled, best_k_with_avg,use_avg_ratings_option=True, user_avg_ratings=user_avg_ratings)\n",
    "print(f\"Results for approach with average ratings per user: Test RMSE: {test_rmse_with_avg:.4f}, Test MAE: {test_mae_with_avg:.4f}\")\n"
   ]
  },
  {
   "cell_type": "markdown",
   "metadata": {},
   "source": [
    "With the newly found best K we want to see the effect it has on the recommendations."
   ]
  },
  {
   "cell_type": "code",
   "execution_count": 64,
   "metadata": {},
   "outputs": [
    {
     "name": "stdout",
     "output_type": "stream",
     "text": [
      "Similar users like you (2081) also loved:\n",
      "1. itemid: 2364, Name: Godzilla (Gojira) (1984) - Category: Action|Sci-Fi, Predicted rating: 5\n",
      "2. itemid: 2966, Name: Straight Story, The (1999) - Category: Drama, Predicted rating: 5\n",
      "3. itemid: 961, Name: Little Lord Fauntleroy (1936) - Category: Drama, Predicted rating: 5\n",
      "4. itemid: 1569, Name: My Best Friend's Wedding (1997) - Category: Comedy|Romance, Predicted rating: 5\n",
      "5. itemid: 922, Name: Sunset Blvd. (a.k.a. Sunset Boulevard) (1950) - Category: Film-Noir, Predicted rating: 5\n",
      "6. itemid: 1237, Name: Seventh Seal, The (Sjunde inseglet, Det) (1957) - Category: Drama, Predicted rating: 5\n",
      "7. itemid: 423, Name: Blown Away (1994) - Category: Action|Thriller, Predicted rating: 4\n",
      "8. itemid: 889, Name: 1-900 (1994) - Category: Romance, Predicted rating: 4\n",
      "9. itemid: 963, Name: Inspector General, The (1949) - Category: Musical, Predicted rating: 4\n",
      "10. itemid: 1022, Name: Cinderella (1950) - Category: Animation|Children's|Musical, Predicted rating: 4\n"
     ]
    }
   ],
   "source": [
    "# Using the best k and average ratings to recommend items to the user to see if we get different results\n",
    "recommend_items_with_avg_rating_user(user_item_matrix, selected_user_index, items_not_seen, item_to_index, item_to_name, item_to_category, user_avg_ratings, k=best_k_with_avg)"
   ]
  },
  {
   "cell_type": "markdown",
   "metadata": {},
   "source": [
    "When examining similarities among users with the average rating, it becomes evident that recommendations undergo significant alterations."
   ]
  },
  {
   "cell_type": "markdown",
   "metadata": {},
   "source": [
    "<div style=\"text-align:center; background: linear-gradient(to top right, #222, #000); padding: 20px; color:rgb(9, 229, 57);\">\n",
    "    <h2 style=\"font-weight: bold; font-size: 36px;\">5. Combining rating and Average rating</h2>\n",
    "</div>\n"
   ]
  },
  {
   "cell_type": "markdown",
   "metadata": {},
   "source": [
    "Now that we've identified a distinction in recommendations, we aim to explore the impact of combining the similarities in ratings for the same movie and the average rating on recommendations and the resulting RMSE changes."
   ]
  },
  {
   "cell_type": "markdown",
   "metadata": {},
   "source": [
    "This function `recommend_movies_combined` generates movie recommendations for a user by combining two types of similarity measures in a collaborative filtering framework:\n",
    "\n",
    "1. **Calculate Similarities**:  \n",
    "   - Cosine similarity is computed between the selected user's interaction vector and those of all other users.  \n",
    "   - A secondary \"similarity\" based on users' average ratings is also considered, although in the current implementation it incorrectly applies cosine similarity to scalar values (user averages).\n",
    "2. **Combine Similarities**:  \n",
    "   - The two similarity scores are combined using a weighted sum, where the weights for cosine similarity and average rating similarity can be adjusted manually.  \n",
    "   - This produces a final combined similarity score for each user.\n",
    "3. **Select Top Similar Users**:  \n",
    "   - The top `k` users with the highest combined similarity scores are selected.\n",
    "4. **Generate Recommendations**:  \n",
    "   - Movies rated ≥ 4 by these top similar users, and which the selected user has not yet rated, are identified as candidate recommendations.\n",
    "5. **Print Recommendations**:  \n",
    "   - The top recommended movies are printed, including their item IDs, names, categories, and predicted ratings based on user ratings.\n",
    "\n",
    "**Note:**  \n",
    "- A random user can be selected for recommendations by assigning a value to `selected_user_index`.  \n",
    "- The similarity calculation involving average ratings should ideally be adjusted to handle scalar values more appropriately (e.g., using inverse absolute differences rather than cosine).\n"
   ]
  },
  {
   "cell_type": "code",
   "execution_count": 67,
   "metadata": {},
   "outputs": [],
   "source": [
    "def recommend_movies_combined(user_item_matrix, selected_user_index, items_not_seen, item_to_index, item_to_name, item_to_category, user_avg_ratings, weight_cosine=0.5, weight_avg_rating=0.5, k=10):\n",
    "    # Calculate similarities using each method\n",
    "    similarities_cosine = [(i, user_user_matrix(user_item_matrix[selected_user_index, :].toarray().flatten(), user_item_matrix[i, :].toarray().flatten())) \n",
    "                    for i in range(user_item_matrix.shape[0]) if i != selected_user_index]\n",
    "    \n",
    "    similarities_avg_rating = [(i, user_user_matrix(user_avg_ratings[selected_user_index], user_avg_ratings[i])) \n",
    "                    for i in range(user_item_matrix.shape[0]) if i != selected_user_index]\n",
    "\n",
    "    # Combine similarities using weighted sum\n",
    "    combined_similarities = []\n",
    "    for i in range(len(similarities_cosine)):\n",
    "        user_index = similarities_cosine[i][0]\n",
    "        similarity_cosine = similarities_cosine[i][1]\n",
    "        similarity_avg_rating = similarities_avg_rating[i][1]\n",
    "        \n",
    "        # Calculate combined similarity using weighted sum\n",
    "        combined_similarity = (weight_cosine * similarity_cosine) + (weight_avg_rating * similarity_avg_rating)\n",
    "        combined_similarities.append((user_index, combined_similarity))\n",
    "\n",
    "    # Sort combined similarities\n",
    "    sorted_combined_similarities = sorted(combined_similarities, key=lambda x: x[1], reverse=True)\n",
    "\n",
    "    # Select top k similar users\n",
    "    top_k_combined_similar_users = sorted_combined_similarities[:k]\n",
    "\n",
    "    # Generate recommendations\n",
    "    recommended_items = {}\n",
    "    for user_index, similarity in top_k_combined_similar_users:\n",
    "        for item_index in items_not_seen:\n",
    "            if user_item_matrix[user_index, item_index] >= 4:\n",
    "                recommended_items[item_index] = max(recommended_items.get(item_index, 0), user_item_matrix[user_index, item_index])\n",
    "\n",
    "    # Sort recommended items\n",
    "    sorted_recommended_items = sorted(recommended_items.items(), key=lambda x: x[1], reverse=True)\n",
    "\n",
    "    # Print recommendations\n",
    "    print(f\"Similar users like you ({selected_user_index}) also loved:\")\n",
    "    for i, (item_index, rating) in enumerate(sorted_recommended_items[:10]):\n",
    "        name = item_to_name.get(item_index, \"Unknown Name\")\n",
    "        category = item_to_category.get(item_index, \"Unknown Category\")\n",
    "        print(f\"{i+1}. ItemID: {item_index}, Name: {name} - Category: {category}, Predicted Rating: {rating}\")\n",
    "\n",
    "# Sample data\n",
    "selected_user_index = random_user"
   ]
  },
  {
   "cell_type": "markdown",
   "metadata": {},
   "source": [
    "Now that our function is prepared for use, we employ it with the assigned weights and K value to obtain a baseline."
   ]
  },
  {
   "cell_type": "code",
   "execution_count": 68,
   "metadata": {},
   "outputs": [
    {
     "name": "stdout",
     "output_type": "stream",
     "text": [
      "Similar users like you (2081) also loved:\n",
      "1. ItemID: 1037, Name: Lawnmower Man, The (1992) - Category: Action|Sci-Fi|Thriller, Predicted Rating: 5\n",
      "2. ItemID: 2364, Name: Godzilla (Gojira) (1984) - Category: Action|Sci-Fi, Predicted Rating: 5\n",
      "3. ItemID: 922, Name: Sunset Blvd. (a.k.a. Sunset Boulevard) (1950) - Category: Film-Noir, Predicted Rating: 5\n",
      "4. ItemID: 1237, Name: Seventh Seal, The (Sjunde inseglet, Det) (1957) - Category: Drama, Predicted Rating: 5\n",
      "5. ItemID: 477, Name: What's Love Got to Do with It? (1993) - Category: Drama, Predicted Rating: 5\n",
      "6. ItemID: 666, Name: All Things Fair (1996) - Category: Drama, Predicted Rating: 5\n",
      "7. ItemID: 1865, Name: Wild Man Blues (1998) - Category: Documentary, Predicted Rating: 5\n",
      "8. ItemID: 1954, Name: Rocky (1976) - Category: Action|Drama, Predicted Rating: 5\n",
      "9. ItemID: 2475, Name: 52 Pick-Up (1986) - Category: Action|Mystery|Thriller, Predicted Rating: 4\n",
      "10. ItemID: 2871, Name: Deliverance (1972) - Category: Adventure|Thriller, Predicted Rating: 4\n"
     ]
    }
   ],
   "source": [
    "# Sample call with custom weights and k\n",
    "recommend_movies_combined(user_item_matrix, selected_user_index, items_not_seen, item_to_index, item_to_name, item_to_category, user_avg_ratings, weight_cosine=0.6, weight_avg_rating=0.4, k=5)"
   ]
  },
  {
   "cell_type": "markdown",
   "metadata": {},
   "source": [
    "`hybrid_knn_prediction` predicts ratings using a hybrid approach combining normal KNN and weighted KNN with user average ratings. And `hyperparameter_tuning_hybrid_knn` function performs hyperparameter tuning for the hybrid KNN algorithm."
   ]
  },
  {
   "cell_type": "code",
   "execution_count": 83,
   "metadata": {},
   "outputs": [],
   "source": [
    "def hybrid_knn_prediction(train_data, test_data, user_avg_ratings, k=5, metric='cosine', similarity_matrix=None, weight_normal=0.5, weight_avg=0.5):\n",
    "    # Calculate prediction using normal KNN\n",
    "    prediction_normal = predict_user_based_knn_with_mean(train_data, test_data, k=k)\n",
    "    \n",
    "    # Calculate prediction using weighted KNN with user average ratings\n",
    "    prediction_avg = calculate_weighted_knn_prediction_with_avg(train_data, test_data, user_avg_ratings, k=k)\n",
    "    \n",
    "    # Combine predictions using hybrid approach\n",
    "    hybrid_prediction = weight_normal * prediction_normal + weight_avg * prediction_avg\n",
    "    \n",
    "    return hybrid_prediction\n",
    "\n",
    "def hyperparameter_tuning_hybrid_knn(dataset, user_avg_ratings, iterations=1, early_stopping_rounds=3, user_col='userid', item_col='itemid', rating_col='rating'):\n",
    "    # Define values for hyperparameters\n",
    "    n_neighbors = [5, 10, 20, 30, 40, 50]\n",
    "    metrics = ['cosine']\n",
    "    hpt_results = []\n",
    "\n",
    "    # Iterate over different combinations of hyperparameters\n",
    "    for metric in metrics:\n",
    "        for k in n_neighbors:\n",
    "            # Initialize variables to track best hyperparameters and performance metrics\n",
    "            best_rmse = float('inf')\n",
    "            best_mae = float('inf')\n",
    "            best_weight_normal = None\n",
    "            best_weight_avg = None\n",
    "            no_improvement_count = 0\n",
    "\n",
    "            # Iterate over different weight_normal values\n",
    "            for weight_normal in [0.1, 0.3, 0.5, 0.7, 0.9]:\n",
    "                weight_avg = 1.0 - weight_normal\n",
    "                rmse_list, mae_list = [], []\n",
    "\n",
    "                # Perform cross-validation iterations\n",
    "                for _ in range(iterations):\n",
    "                    train_data, validation_data,_, _, _ = train_test_sparse(dataset, user_col=user_col, item_col=item_col, rating_col=rating_col, time_col='timestamp')\n",
    "    \n",
    "                    \n",
    "                    # Generate predictions using hybrid KNN\n",
    "                    predictions = hybrid_knn_prediction(train_data, validation_data, user_avg_ratings, k=k, metric=metric, weight_normal=weight_normal, weight_avg=weight_avg)\n",
    "                    \n",
    "                    # Evaluate predictions\n",
    "                    rmse, mae = evaluate_predictions(predictions, validation_data)\n",
    "                    rmse_list.append(rmse)\n",
    "                    mae_list.append(mae)\n",
    "\n",
    "                # Calculate average RMSE and MAE\n",
    "                avg_rmse = np.mean(rmse_list)\n",
    "                avg_mae = np.mean(mae_list)\n",
    "\n",
    "                # Update best hyperparameters and performance metrics if improvement is observed\n",
    "                if avg_rmse < best_rmse:\n",
    "                    best_rmse = avg_rmse\n",
    "                    best_mae = avg_mae\n",
    "                    best_weight_normal = weight_normal\n",
    "                    best_weight_avg = weight_avg\n",
    "                    no_improvement_count = 0\n",
    "                else:\n",
    "                    no_improvement_count += 1\n",
    "\n",
    "                # Early stopping if no improvement is observed\n",
    "                if no_improvement_count >= early_stopping_rounds:\n",
    "                    break\n",
    "\n",
    "            # Print results for each combination of hyperparameters\n",
    "            print(f'For k={k} using {metric}, best weight_normal={best_weight_normal:.2f}, best weight_avg={best_weight_avg:.2f}, the best average RMSE={best_rmse:.4f} and MAE={best_mae:.4f}')\n",
    "            hpt_results.append([best_rmse, metric, k, best_weight_normal, best_weight_avg, best_mae])\n",
    "\n",
    "        # Early stopping for the number of neighbors (k)\n",
    "        if no_improvement_count >= early_stopping_rounds:\n",
    "            break\n",
    "\n",
    "    # Select best hyperparameters based on RMSE\n",
    "    best_parameters = sorted(hpt_results, key=lambda x: x[0])[0]\n",
    "    print(f\"Best Parameters: Metric={best_parameters[1]}, k={best_parameters[2]}, weight_normal={best_parameters[3]:.2f}, weight_avg={best_parameters[4]:.2f}, with RMSE={best_parameters[0]:.4f} and MAE={best_parameters[5]:.4f}\")\n",
    "\n",
    "    return best_parameters"
   ]
  },
  {
   "cell_type": "markdown",
   "metadata": {},
   "source": [
    "Starting with hyperparameter tuning the find the best value for K and the best wieghts for the hybrid model."
   ]
  },
  {
   "cell_type": "code",
   "execution_count": 84,
   "metadata": {},
   "outputs": [
    {
     "name": "stdout",
     "output_type": "stream",
     "text": [
      "For k=5 using cosine, best weight_normal=0.70, best weight_avg=0.30, the best average RMSE=1.0858 and MAE=0.8576\n",
      "For k=10 using cosine, best weight_normal=0.70, best weight_avg=0.30, the best average RMSE=1.0923 and MAE=0.8617\n",
      "For k=20 using cosine, best weight_normal=0.70, best weight_avg=0.30, the best average RMSE=1.1064 and MAE=0.8699\n",
      "For k=30 using cosine, best weight_normal=0.70, best weight_avg=0.30, the best average RMSE=1.1208 and MAE=0.8799\n",
      "For k=40 using cosine, best weight_normal=0.70, best weight_avg=0.30, the best average RMSE=1.1284 and MAE=0.8861\n",
      "For k=50 using cosine, best weight_normal=0.70, best weight_avg=0.30, the best average RMSE=1.1364 and MAE=0.8931\n",
      "Best Parameters: Metric=cosine, k=5, weight_normal=0.70, weight_avg=0.30, with RMSE=1.0858 and MAE=0.8576\n"
     ]
    }
   ],
   "source": [
    "# Call the function 'hyperparameter_tuning_hybrid_knn' to tune hyperparameters for the hybrid KNN model.\n",
    "best_parameters_hybrid = hyperparameter_tuning_hybrid_knn(df_sampled, user_avg_ratings)"
   ]
  },
  {
   "cell_type": "markdown",
   "metadata": {},
   "source": [
    "From the results of the hybrid approach:\n",
    "\n",
    "- The hybrid approach combines the cosine similarity and the average ratings per user.\n",
    "- As the value of k increases, RMSE and MAE generally decrease, indicating improved prediction accuracy.\n",
    "- The best performance is achieved when k=5, with a weight distribution of 0.7 for regular and a and 0.3 for average ratings, resulting in RMSE=1.0858 and MAE=0.8576\n",
    "\n",
    "Therefore, based on the provided data, the hybrid approach with cosine similarity and average ratings per user, using k=5 and 0.7 to 0.3 weighting for regular and average ratings, yields the best prediction accuracy."
   ]
  },
  {
   "cell_type": "markdown",
   "metadata": {},
   "source": [
    "Now that we know out best hyperparameters we will use this to test our model."
   ]
  },
  {
   "cell_type": "code",
   "execution_count": 86,
   "metadata": {},
   "outputs": [
    {
     "name": "stdout",
     "output_type": "stream",
     "text": [
      "[TEST] Final model with k=5 → RMSE=1.2391, MAE=0.9827\n",
      "Results for hybrid approach: Test RMSE: 1.2391, Test MAE: 0.9827, Best k: 5, Weight for normal: 0.7, Weight for average: 0.57\n"
     ]
    }
   ],
   "source": [
    "# Defining the best k we got from hyperparameter tuning\n",
    "best_k_hybrid = 5\n",
    "\n",
    "# Defining the best weights we got from hyperparameter tuning\n",
    "best_weight_normal = 0.7\n",
    "best_weight_avg = 0.57\n",
    "\n",
    "# Testing the hybrid KNN model\n",
    "test_rmse_hybrid, test_mae_hybrid = test_user_knn_model(df_sampled, best_k_with_avg,use_avg_ratings_option=True, user_avg_ratings=user_avg_ratings)\n",
    "print(f\"Results for hybrid approach: Test RMSE: {test_rmse_hybrid:.4f}, Test MAE: {test_mae_hybrid:.4f}, Best k: {best_k_hybrid}, Weight for normal: {best_weight_normal}, Weight for average: {best_weight_avg}\")\n"
   ]
  },
  {
   "cell_type": "markdown",
   "metadata": {},
   "source": [
    "The test results for the hybrid approach indicate a RMSE=1.2391, MAE=0.9827. When applied to new, unseen data, these metrics evaluate the predictive model's accuracy. The best parameters identified are k=5, with a weight of 0.7 for normal and 0.3 for average ratings."
   ]
  },
  {
   "cell_type": "markdown",
   "metadata": {},
   "source": [
    "Lastly, we use our found hyperparameters and use it in out model to see the new recommendations."
   ]
  },
  {
   "cell_type": "code",
   "execution_count": 87,
   "metadata": {},
   "outputs": [
    {
     "name": "stdout",
     "output_type": "stream",
     "text": [
      "Similar users like you (2081) also loved:\n",
      "1. ItemID: 1037, Name: Lawnmower Man, The (1992) - Category: Action|Sci-Fi|Thriller, Predicted Rating: 5\n",
      "2. ItemID: 2364, Name: Godzilla (Gojira) (1984) - Category: Action|Sci-Fi, Predicted Rating: 5\n",
      "3. ItemID: 922, Name: Sunset Blvd. (a.k.a. Sunset Boulevard) (1950) - Category: Film-Noir, Predicted Rating: 5\n",
      "4. ItemID: 1237, Name: Seventh Seal, The (Sjunde inseglet, Det) (1957) - Category: Drama, Predicted Rating: 5\n",
      "5. ItemID: 477, Name: What's Love Got to Do with It? (1993) - Category: Drama, Predicted Rating: 5\n",
      "6. ItemID: 666, Name: All Things Fair (1996) - Category: Drama, Predicted Rating: 5\n",
      "7. ItemID: 1865, Name: Wild Man Blues (1998) - Category: Documentary, Predicted Rating: 5\n",
      "8. ItemID: 1954, Name: Rocky (1976) - Category: Action|Drama, Predicted Rating: 5\n",
      "9. ItemID: 2475, Name: 52 Pick-Up (1986) - Category: Action|Mystery|Thriller, Predicted Rating: 4\n",
      "10. ItemID: 2871, Name: Deliverance (1972) - Category: Adventure|Thriller, Predicted Rating: 4\n"
     ]
    }
   ],
   "source": [
    "# Simple call with custom weights and k\n",
    "recommend_movies_combined(user_item_matrix, selected_user_index, items_not_seen, item_to_index, item_to_name, item_to_category, user_avg_ratings, weight_cosine=best_weight_normal, weight_avg_rating=best_weight_avg, k=best_k_hybrid)"
   ]
  },
  {
   "cell_type": "markdown",
   "metadata": {},
   "source": [
    "As we can see we got new recommendations."
   ]
  },
  {
   "cell_type": "markdown",
   "metadata": {},
   "source": [
    "<div style=\"text-align:center; background: linear-gradient(to top right, #222, #000); padding: 15px; color:rgb(16, 229, 9);\">\n",
    "    <h1 style=\"font-weight: bold; font-size: 36px;\">5. Evaluating the Recommended Items</h1>\n",
    "</div>\n",
    "\n"
   ]
  },
  {
   "cell_type": "markdown",
   "metadata": {},
   "source": [
    "We begin by evaluating the recommender system’s effectiveness using precision (or hit rate). A precision of zero in this context is desirable, as it indicates that the system is not recommending any movies the user has already seen. Instead, it exclusively suggests unseen items, aligning with our goal. As shown below, the hit rate is zero, which confirms that the recommender is performing as intended."
   ]
  },
  {
   "cell_type": "code",
   "execution_count": 92,
   "metadata": {},
   "outputs": [
    {
     "name": "stdout",
     "output_type": "stream",
     "text": [
      "Top-10 recommended items for user 2081: [1037, 2364, 922, 1237, 477, 666, 1865, 1954, 2475, 2871]\n",
      "Ground truth rated items for user 2081: []\n",
      "Hits: 0 out of 10\n",
      "Precision@10: 0.0000\n"
     ]
    }
   ],
   "source": [
    "# Your setup\n",
    "user_id = random_user  # Or any user you selected\n",
    "recommended_items = [1037, 2364, 922, 1237, 477, 666, 1865, 1954, 2475, 2871]\n",
    "k = 10  # Evaluate top 10\n",
    "\n",
    "# Step 1: Get ground truth items from df_sampled\n",
    "ground_truth = df_sampled[df_sampled['userid'] == user_id]['itemid'].tolist()\n",
    "\n",
    "# Step 2: Calculate hits\n",
    "hits = sum(1 for item in recommended_items[:k] if item in ground_truth)\n",
    "\n",
    "# Step 3: Calculate Precision@K\n",
    "precision = hits / k\n",
    "\n",
    "# Step 4: Output\n",
    "print(f\"Top-{k} recommended items for user {user_id}: {recommended_items[:k]}\")\n",
    "print(f\"Ground truth rated items for user {user_id}: {ground_truth}\")\n",
    "print(f\"Hits: {hits} out of {k}\")\n",
    "print(f\"Precision@{k}: {precision:.4f}\")\n",
    "\n"
   ]
  },
  {
   "cell_type": "markdown",
   "metadata": {},
   "source": [
    "### In addition to precision, we evaluate the recommender system using two complementary metrics: **novelty** and **diversity**, both computed at Top-K (K=3) recommendations.\n",
    "\n"
   ]
  },
  {
   "cell_type": "markdown",
   "metadata": {},
   "source": [
    "This code loads the MovieLens movies dataset and extracts structured information about each movie’s genre. It first identifies all unique genre types present in the dataset, then creates a one-hot encoded vector for each movie based on its genre tags. These vectors are used to build a `movie_features_dict`, which maps each movie ID to its corresponding genre-based feature representation. This structured mapping is essential for computing similarity-based metrics such as diversity in recommendation evaluation.\n"
   ]
  },
  {
   "cell_type": "code",
   "execution_count": 94,
   "metadata": {},
   "outputs": [
    {
     "data": {
      "text/html": [
       "<div>\n",
       "<style scoped>\n",
       "    .dataframe tbody tr th:only-of-type {\n",
       "        vertical-align: middle;\n",
       "    }\n",
       "\n",
       "    .dataframe tbody tr th {\n",
       "        vertical-align: top;\n",
       "    }\n",
       "\n",
       "    .dataframe thead th {\n",
       "        text-align: right;\n",
       "    }\n",
       "</style>\n",
       "<table border=\"1\" class=\"dataframe\">\n",
       "  <thead>\n",
       "    <tr style=\"text-align: right;\">\n",
       "      <th></th>\n",
       "      <th>itemid</th>\n",
       "      <th>title</th>\n",
       "      <th>genre</th>\n",
       "    </tr>\n",
       "  </thead>\n",
       "  <tbody>\n",
       "    <tr>\n",
       "      <th>53</th>\n",
       "      <td>1357</td>\n",
       "      <td>Shine (1996)</td>\n",
       "      <td>Drama|Romance</td>\n",
       "    </tr>\n",
       "    <tr>\n",
       "      <th>54</th>\n",
       "      <td>3068</td>\n",
       "      <td>Verdict, The (1982)</td>\n",
       "      <td>Drama</td>\n",
       "    </tr>\n",
       "    <tr>\n",
       "      <th>55</th>\n",
       "      <td>1537</td>\n",
       "      <td>Shall We Dance? (Shall We Dansu?) (1996)</td>\n",
       "      <td>Comedy</td>\n",
       "    </tr>\n",
       "    <tr>\n",
       "      <th>56</th>\n",
       "      <td>647</td>\n",
       "      <td>Courage Under Fire (1996)</td>\n",
       "      <td>Drama|War</td>\n",
       "    </tr>\n",
       "    <tr>\n",
       "      <th>57</th>\n",
       "      <td>2194</td>\n",
       "      <td>Untouchables, The (1987)</td>\n",
       "      <td>Action|Crime|Drama</td>\n",
       "    </tr>\n",
       "    <tr>\n",
       "      <th>...</th>\n",
       "      <td>...</td>\n",
       "      <td>...</td>\n",
       "      <td>...</td>\n",
       "    </tr>\n",
       "    <tr>\n",
       "      <th>970914</th>\n",
       "      <td>3607</td>\n",
       "      <td>One Little Indian (1973)</td>\n",
       "      <td>Comedy|Drama|Western</td>\n",
       "    </tr>\n",
       "    <tr>\n",
       "      <th>971564</th>\n",
       "      <td>690</td>\n",
       "      <td>Promise, The (Versprechen, Das) (1994)</td>\n",
       "      <td>Romance</td>\n",
       "    </tr>\n",
       "    <tr>\n",
       "      <th>974254</th>\n",
       "      <td>1842</td>\n",
       "      <td>Illtown (1996)</td>\n",
       "      <td>Crime|Drama</td>\n",
       "    </tr>\n",
       "    <tr>\n",
       "      <th>983062</th>\n",
       "      <td>2909</td>\n",
       "      <td>Five Wives, Three Secretaries and Me (1998)</td>\n",
       "      <td>Documentary</td>\n",
       "    </tr>\n",
       "    <tr>\n",
       "      <th>984612</th>\n",
       "      <td>3123</td>\n",
       "      <td>Spring Fever USA (a.k.a. Lauderdale) (1989)</td>\n",
       "      <td>Comedy</td>\n",
       "    </tr>\n",
       "  </tbody>\n",
       "</table>\n",
       "<p>3675 rows × 3 columns</p>\n",
       "</div>"
      ],
      "text/plain": [
       "        itemid                                        title  \\\n",
       "53        1357                                 Shine (1996)   \n",
       "54        3068                          Verdict, The (1982)   \n",
       "55        1537     Shall We Dance? (Shall We Dansu?) (1996)   \n",
       "56         647                    Courage Under Fire (1996)   \n",
       "57        2194                     Untouchables, The (1987)   \n",
       "...        ...                                          ...   \n",
       "970914    3607                     One Little Indian (1973)   \n",
       "971564     690       Promise, The (Versprechen, Das) (1994)   \n",
       "974254    1842                               Illtown (1996)   \n",
       "983062    2909  Five Wives, Three Secretaries and Me (1998)   \n",
       "984612    3123  Spring Fever USA (a.k.a. Lauderdale) (1989)   \n",
       "\n",
       "                       genre  \n",
       "53             Drama|Romance  \n",
       "54                     Drama  \n",
       "55                    Comedy  \n",
       "56                 Drama|War  \n",
       "57        Action|Crime|Drama  \n",
       "...                      ...  \n",
       "970914  Comedy|Drama|Western  \n",
       "971564               Romance  \n",
       "974254           Crime|Drama  \n",
       "983062           Documentary  \n",
       "984612                Comedy  \n",
       "\n",
       "[3675 rows x 3 columns]"
      ]
     },
     "execution_count": 94,
     "metadata": {},
     "output_type": "execute_result"
    }
   ],
   "source": [
    "movies_unique"
   ]
  },
  {
   "cell_type": "code",
   "execution_count": 100,
   "metadata": {},
   "outputs": [
    {
     "name": "stdout",
     "output_type": "stream",
     "text": [
      "Loaded features for 3675 movies.\n"
     ]
    }
   ],
   "source": [
    "\n",
    "# Step 1: Identify all unique genres\n",
    "all_genres = sorted(set(genre for genre_list in movies_unique[\"genre\"]\n",
    "                        for genre in genre_list.split('|')))\n",
    "\n",
    "# Step 2: Create a one-hot encoded vector per movie\n",
    "def encode_genres(genre_string, genre_list):\n",
    "    genre_vector = np.zeros(len(genre_list))\n",
    "    for genre in genre_string.split('|'):\n",
    "        if genre in genre_list:\n",
    "            idx = genre_list.index(genre)\n",
    "            genre_vector[idx] = 1\n",
    "    return genre_vector\n",
    "\n",
    "# Step 3: Build the feature dictionary\n",
    "movie_features_dict = {}\n",
    "for row in movies_unique.itertuples(index=False):\n",
    "    movie_features_dict[row.itemid] = encode_genres(row.genre, all_genres)\n",
    "\n",
    "#  Done: movie_features_dict is ready\n",
    "print(f\"Loaded features for {len(movie_features_dict)} movies.\")\n"
   ]
  },
  {
   "cell_type": "markdown",
   "metadata": {},
   "source": [
    "#### Novelty\n",
    "\n",
    "**Novelty** quantifies how *unfamiliar* the recommended items are to the user. We compute it by applying an inverse log-scaled popularity measure for each recommended item, where item popularity is derived from the training and validation data:\n",
    "\n",
    "`novelty = -log₂(popularity + 1)`\n",
    "\n",
    "Less popular items yield higher novelty scores. This encourages the system to recommend content that users are less likely to have encountered through mainstream exposure, thereby promoting discovery and exploration.\n",
    "\n",
    "#### Diversity\n",
    "\n",
    "**Diversity** measures how *different* the recommended items are from one another. We compute this by:\n",
    "\n",
    "1. Representing each movie as a one-hot encoded genre vector.\n",
    "2. Calculating pairwise cosine similarity among the Top-K recommended items.\n",
    "3. Averaging these similarities (excluding self-similarity).\n",
    "4. Defining diversity as:\n",
    "\n",
    "`diversity = 1 - average_pairwise_similarity`\n",
    "\n",
    "Higher diversity scores indicate that the recommended items span a broader range of themes or genres, minimizing redundancy and enhancing the user's engagement with varied content.\n",
    "\n",
    "These metrics are averaged across all users with valid test interactions to yield a system-level evaluation. This enables a more comprehensive assessment, capturing not just the **accuracy** of recommendations but also their **novelty** and **diversity** — two essential properties for a robust and user-centered recommender system.\n"
   ]
  },
  {
   "cell_type": "code",
   "execution_count": 104,
   "metadata": {},
   "outputs": [
    {
     "name": "stdout",
     "output_type": "stream",
     "text": [
      "\n",
      "Evaluation Metrics for user 2081\n",
      "Novelty@10: -4.3911\n",
      "Diversity@10: 0.7968\n"
     ]
    }
   ],
   "source": [
    "# Build item popularity dictionary from df_sampled\n",
    "item_popularity = df_sampled.groupby('itemid').size().to_dict()\n",
    "\n",
    "# Function for Novelty@K\n",
    "def novelty_at_k(recommended_items, item_popularity, k=10):\n",
    "    total = 0\n",
    "    for item in recommended_items[:k]:\n",
    "        pop = item_popularity.get(item, 1)  # avoid division by zero\n",
    "        total += -np.log2(pop + 1)\n",
    "    return total / k\n",
    "\n",
    "# Function for Diversity@K\n",
    "def diversity_at_k(recommended_items, movie_features_dict, k=10):\n",
    "    vectors = [movie_features_dict.get(item) for item in recommended_items[:k]]\n",
    "    vectors = [v for v in vectors if v is not None]\n",
    "    if len(vectors) < 2:\n",
    "        return 0\n",
    "    sim_matrix = cosine_similarity(vectors)\n",
    "    n = len(sim_matrix)\n",
    "    total_sim = np.sum(sim_matrix) - np.trace(sim_matrix)\n",
    "    avg_sim = total_sim / (n * (n - 1))\n",
    "    return 1 - avg_sim\n",
    "\n",
    "# Calculate Novelty\n",
    "novelty_at_10 = novelty_at_k(recommended_items, item_popularity, k=10)\n",
    "\n",
    "# Calculate Diversity\n",
    "diversity_at_10 = diversity_at_k(recommended_items, movie_features_dict, k=10)\n",
    "\n",
    "# --- Final Output ---\n",
    "print(\"\\nEvaluation Metrics for user\", user_id)\n",
    "print(f\"Novelty@{k}: {novelty_at_10:.4f}\")\n",
    "print(f\"Diversity@{k}: {diversity_at_10:.4f}\")"
   ]
  },
  {
   "cell_type": "markdown",
   "metadata": {},
   "source": [
    "### Novelty: -4.3911\n",
    "The novelty score is negative, as expected, because it's based on the formula `-log₂(popularity + 1)`. A score of **-4.71** suggests that the system is generally recommending **moderately popular items** — not the most mainstream, but not obscure either.Lower (more negative) values indicate recommendations skewing toward more popular items. To increase novelty (i.e., recommend less well-known content), the system would need to shift toward **lower-popularity** items in its top-K suggestions.\n",
    "### Diversity: 0.7968\n",
    "\n",
    "This is a **strong diversity score** on a 0–1 scale.  \n",
    "A score of **0.79** implies that the recommended items for each user are **highly dissimilar** in terms of their genre composition.  \n",
    "This reflects a healthy level of **variety** in the top-3 recommendations, reducing redundancy and increasing the likelihood that users will find something novel or unexpected within each set.\n"
   ]
  },
  {
   "cell_type": "code",
   "execution_count": null,
   "metadata": {},
   "outputs": [
    {
     "name": "stdout",
     "output_type": "stream",
     "text": [
      "[k=5] RMSE=0.9727, MAE=0.7700\n",
      "[k=10] RMSE=0.9866, MAE=0.7798\n",
      "[k=20] RMSE=1.0079, MAE=0.7953\n",
      "[k=30] RMSE=1.0253, MAE=0.8078\n",
      "[k=40] RMSE=1.0367, MAE=0.8160\n",
      "[k=50] RMSE=1.0444, MAE=0.8211\n",
      "\n",
      "Best k: 5 → Validation RMSE=0.9727, MAE=0.7700\n"
     ]
    }
   ],
   "source": [
    "# Now doing some hyperparameter tuning with average ratings\n",
    "best_parameters_with_avg = hyperparameter_tuning_user_knn(df_sampled, iterations=2, k_values=[5, 10, 20, 30, 40, 50], use_avg_ratings_option=True,           \n",
    "    user_avg_ratings=user_avg_ratings,       \n",
    "    user_col='userid',\n",
    "    item_col='itemid',\n",
    "    rating_col='rating',\n",
    "    time_col='timestamp')"
   ]
  },
  {
   "cell_type": "markdown",
   "metadata": {},
   "source": []
  },
  {
   "cell_type": "markdown",
   "metadata": {},
   "source": [
    "<div style=\"text-align:center; background: linear-gradient(to top right, #222, #000); padding: 20px; color:rgb(42, 9, 229);\">\n",
    "    <h2 style=\"font-weight: bold; font-size: 40px;\">Netflix</h2>\n",
    "</div>\n"
   ]
  },
  {
   "cell_type": "markdown",
   "metadata": {},
   "source": [
    "We have done the analysis on the Netflix dataset and now we want to compare the user-based CF KNN on the netflix dataset."
   ]
  },
  {
   "cell_type": "markdown",
   "metadata": {},
   "source": [
    "<div style=\"text-align:center; background: linear-gradient(to top right, #222, #000); padding: 15px; color:rgb(24, 9, 229);\">\n",
    "    <h1 style=\"font-weight: bold; font-size: 36px;\">1. Preparing Dataset</h1>\n",
    "</div>"
   ]
  },
  {
   "cell_type": "code",
   "execution_count": 105,
   "metadata": {},
   "outputs": [],
   "source": [
    "# Importing movielens parquet dataset\n",
    "Netflix=pd.read_parquet(r\"C:\\Users\\RUTA\\Desktop\\masters of digital driven bussines\\SDM\\SDM assigment\\New folder\\netflex\\netflix.parquet\")"
   ]
  },
  {
   "cell_type": "code",
   "execution_count": 111,
   "metadata": {},
   "outputs": [],
   "source": [
    "Netflix.rename(columns={'MovieID': 'itemid','UserID':'userid','Rating': 'rating','Date':'timestamp'}, inplace=True)"
   ]
  },
  {
   "cell_type": "code",
   "execution_count": 112,
   "metadata": {},
   "outputs": [
    {
     "data": {
      "text/html": [
       "<div>\n",
       "<style scoped>\n",
       "    .dataframe tbody tr th:only-of-type {\n",
       "        vertical-align: middle;\n",
       "    }\n",
       "\n",
       "    .dataframe tbody tr th {\n",
       "        vertical-align: top;\n",
       "    }\n",
       "\n",
       "    .dataframe thead th {\n",
       "        text-align: right;\n",
       "    }\n",
       "</style>\n",
       "<table border=\"1\" class=\"dataframe\">\n",
       "  <thead>\n",
       "    <tr style=\"text-align: right;\">\n",
       "      <th></th>\n",
       "      <th>itemid</th>\n",
       "      <th>userid</th>\n",
       "      <th>rating</th>\n",
       "      <th>timestamp</th>\n",
       "    </tr>\n",
       "  </thead>\n",
       "  <tbody>\n",
       "    <tr>\n",
       "      <th>0</th>\n",
       "      <td>1</td>\n",
       "      <td>1488844</td>\n",
       "      <td>3</td>\n",
       "      <td>2005-09-06</td>\n",
       "    </tr>\n",
       "    <tr>\n",
       "      <th>1</th>\n",
       "      <td>1</td>\n",
       "      <td>822109</td>\n",
       "      <td>5</td>\n",
       "      <td>2005-05-13</td>\n",
       "    </tr>\n",
       "    <tr>\n",
       "      <th>2</th>\n",
       "      <td>1</td>\n",
       "      <td>885013</td>\n",
       "      <td>4</td>\n",
       "      <td>2005-10-19</td>\n",
       "    </tr>\n",
       "    <tr>\n",
       "      <th>3</th>\n",
       "      <td>1</td>\n",
       "      <td>30878</td>\n",
       "      <td>4</td>\n",
       "      <td>2005-12-26</td>\n",
       "    </tr>\n",
       "    <tr>\n",
       "      <th>4</th>\n",
       "      <td>1</td>\n",
       "      <td>823519</td>\n",
       "      <td>3</td>\n",
       "      <td>2004-05-03</td>\n",
       "    </tr>\n",
       "    <tr>\n",
       "      <th>...</th>\n",
       "      <td>...</td>\n",
       "      <td>...</td>\n",
       "      <td>...</td>\n",
       "      <td>...</td>\n",
       "    </tr>\n",
       "    <tr>\n",
       "      <th>100480502</th>\n",
       "      <td>17770</td>\n",
       "      <td>1790158</td>\n",
       "      <td>4</td>\n",
       "      <td>2005-11-01</td>\n",
       "    </tr>\n",
       "    <tr>\n",
       "      <th>100480503</th>\n",
       "      <td>17770</td>\n",
       "      <td>1608708</td>\n",
       "      <td>3</td>\n",
       "      <td>2005-07-19</td>\n",
       "    </tr>\n",
       "    <tr>\n",
       "      <th>100480504</th>\n",
       "      <td>17770</td>\n",
       "      <td>234275</td>\n",
       "      <td>1</td>\n",
       "      <td>2004-08-07</td>\n",
       "    </tr>\n",
       "    <tr>\n",
       "      <th>100480505</th>\n",
       "      <td>17770</td>\n",
       "      <td>255278</td>\n",
       "      <td>4</td>\n",
       "      <td>2004-05-28</td>\n",
       "    </tr>\n",
       "    <tr>\n",
       "      <th>100480506</th>\n",
       "      <td>17770</td>\n",
       "      <td>453585</td>\n",
       "      <td>2</td>\n",
       "      <td>2005-03-10</td>\n",
       "    </tr>\n",
       "  </tbody>\n",
       "</table>\n",
       "<p>100480507 rows × 4 columns</p>\n",
       "</div>"
      ],
      "text/plain": [
       "           itemid   userid  rating  timestamp\n",
       "0               1  1488844       3 2005-09-06\n",
       "1               1   822109       5 2005-05-13\n",
       "2               1   885013       4 2005-10-19\n",
       "3               1    30878       4 2005-12-26\n",
       "4               1   823519       3 2004-05-03\n",
       "...           ...      ...     ...        ...\n",
       "100480502   17770  1790158       4 2005-11-01\n",
       "100480503   17770  1608708       3 2005-07-19\n",
       "100480504   17770   234275       1 2004-08-07\n",
       "100480505   17770   255278       4 2004-05-28\n",
       "100480506   17770   453585       2 2005-03-10\n",
       "\n",
       "[100480507 rows x 4 columns]"
      ]
     },
     "execution_count": 112,
     "metadata": {},
     "output_type": "execute_result"
    }
   ],
   "source": [
    "Netflix"
   ]
  },
  {
   "cell_type": "code",
   "execution_count": 113,
   "metadata": {},
   "outputs": [
    {
     "name": "stdout",
     "output_type": "stream",
     "text": [
      "Removing users who have rated less than 10.0% of all movies\n",
      "Filtered dataset size: 4687159\n",
      "\n"
     ]
    }
   ],
   "source": [
    "# Filter out users who have rated less than X percent of all movies\n",
    "# Count the number of ratings for each movie and each user\n",
    "ratings_per_movie = Netflix.groupby('itemid').size().reset_index(name='ratings_per_movie')\n",
    "ratings_per_user = Netflix.groupby('userid').size().reset_index(name='number_rated')\n",
    "\n",
    "# Set the threshold for the minimum percentage of movies a user must have rated\n",
    "threshold_percentage = 0.1\n",
    "print(f'Removing users who have rated less than {threshold_percentage*100}% of all movies')\n",
    "\n",
    "# Filter out users who have rated less than the threshold percentage of movies\n",
    "eligible_users = ratings_per_user[ratings_per_user['number_rated'] / ratings_per_movie.shape[0] > threshold_percentage]\n",
    "Netflix = Netflix[Netflix['userid'].isin(eligible_users['userid'])]\n",
    "\n",
    "print(f'Filtered dataset size: {Netflix.shape[0]}\\n')"
   ]
  },
  {
   "cell_type": "markdown",
   "metadata": {},
   "source": [
    "CF can be computationally intensive on large datasets like Netflix or MovieLens.\n",
    "To make experimentation faster and resource-efficient, we reduce the dataset size through **stratified sampling**:\n",
    "- Rather than random sampling, we stratify based on the number of ratings per user to maintain the **distribution of user activity levels**.\n",
    "- This ensures that the sampled dataset is still **representative** of the full dataset's user behavior patterns, which is critical for fair model evaluation. \n",
    "how we did the sampling is, We first measure user activity by counting how many ratings each user has given. Users are then grouped based on their activity level — active users (many ratings) and less active users (few ratings) are treated separately. During sampling, we preserve the original proportion of active and inactive users, ensuring that heavy raters remain equally represented. This maintains the natural rating patterns across popular and niche items. As a result, we obtain a much smaller, yet statistically representative dataset that allows faster model training without compromising behavioral realism.\n",
    "\n",
    "\n",
    "This approach balances **efficiency** with **data integrity**, allowing quicker model iteration without compromising too much on performance fidelity."
   ]
  },
  {
   "cell_type": "code",
   "execution_count": 115,
   "metadata": {},
   "outputs": [
    {
     "name": "stderr",
     "output_type": "stream",
     "text": [
      "C:\\Users\\RUTA\\AppData\\Local\\Temp\\ipykernel_115064\\747792763.py:14: SettingWithCopyWarning: \n",
      "A value is trying to be set on a copy of a slice from a DataFrame.\n",
      "Try using .loc[row_indexer,col_indexer] = value instead\n",
      "\n",
      "See the caveats in the documentation: https://pandas.pydata.org/pandas-docs/stable/user_guide/indexing.html#returning-a-view-versus-a-copy\n",
      "  df[\"user_rating_count\"] = df[\"userid\"].map(user_counts)\n"
     ]
    },
    {
     "name": "stdout",
     "output_type": "stream",
     "text": [
      "Original dataset size: 4687159, Sampled dataset size: 234357\n"
     ]
    }
   ],
   "source": [
    "from sklearn.model_selection import train_test_split\n",
    "\n",
    "def stratified_sampling(df, sample_frac=0.05):\n",
    "    \"\"\"\n",
    "    Performs stratified sampling to reduce dataset size while maintaining\n",
    "    proportional representation of user activity levels.\n",
    "    \n",
    "    - `sample_frac`: Fraction of the dataset to keep (e.g., 0.1 for 10%)\n",
    "    \"\"\"\n",
    "    # Step 1: Count number of ratings per user\n",
    "    user_counts = df[\"userid\"].value_counts()\n",
    "\n",
    "    # Step 2: Create a temporary column for stratification\n",
    "    df[\"user_rating_count\"] = df[\"userid\"].map(user_counts)\n",
    "\n",
    "    # Step 3: Apply stratified sampling\n",
    "    df_sampled, _ = train_test_split(df, test_size=(1 - sample_frac), stratify=df[\"user_rating_count\"], random_state=42)\n",
    "\n",
    "    # Step 4: Drop the temporary column\n",
    "    df_sampled = df_sampled.drop(columns=[\"user_rating_count\"])\n",
    "\n",
    "    return df_sampled\n",
    "\n",
    "# Apply stratified sampling (reduce dataset to 10%)\n",
    "df_sampled = stratified_sampling(Netflix, sample_frac=0.05)\n",
    "\n",
    "# Print dataset sizes\n",
    "print(f\"Original dataset size: {len(Netflix)}, Sampled dataset size: {len(df_sampled)}\")\n"
   ]
  },
  {
   "cell_type": "markdown",
   "metadata": {},
   "source": [
    "We want to visually compare the rating distribution between the main DataFrame (`movielens`) and the sampled DataFrame (`sample_df`). Plotting histograms of the 'rating' column for both datasets allows for a quick visual assessment of any differences or similarities in the rating distribution. This comparison can help evaluate the representativeness of the sampled dataset compared to the original dataset and understand any potential biases introduced during the sampling process."
   ]
  },
  {
   "cell_type": "code",
   "execution_count": 116,
   "metadata": {},
   "outputs": [
    {
     "data": {
      "image/png": "[encoded data removed]",
      "text/plain": [
       "<Figure size 640x480 with 1 Axes>"
      ]
     },
     "metadata": {},
     "output_type": "display_data"
    },
    {
     "data": {
      "image/png": "[encoded data removed]",
      "text/plain": [
       "<Figure size 640x480 with 1 Axes>"
      ]
     },
     "metadata": {},
     "output_type": "display_data"
    }
   ],
   "source": [
    "# Plot the distribution of a specific column in the main DataFrame\n",
    "plt.hist(Netflix['rating'], bins=20, color='blue', alpha=0.5, label='Main DataFrame')\n",
    "plt.xlabel('rating')\n",
    "plt.ylabel('Frequency')\n",
    "plt.title('Distribution of ratings in Main DataFrame')\n",
    "plt.legend()\n",
    "plt.show()\n",
    "\n",
    "# Plot the distribution of the same column in the sampled DataFrame\n",
    "plt.hist(df_sampled['rating'], bins=20, color='orange', alpha=0.5, label='Sampled DataFrame')\n",
    "plt.xlabel('rating')\n",
    "plt.ylabel('Frequency')\n",
    "plt.title('Distribution of ratings in Sampled DataFrame')\n",
    "plt.legend()\n",
    "plt.show()"
   ]
  },
  {
   "cell_type": "markdown",
   "metadata": {},
   "source": [
    "Upon comparison of the plots, it is evident that the rating distribution in the sampled data frame closely mirrors that of the original dataset. This observation indicates that the sampling process effectively captured the variability and distribution of ratings in the primary data frame. Hence, the sampled dataset can represent the original dataset regarding rating distribution."
   ]
  },
  {
   "cell_type": "markdown",
   "metadata": {},
   "source": [
    "In User-based KNN, users have personal rating biases — some rate consistently high, others low. If uncorrected, these biases distort similarity calculations and harm prediction quality. To address this, we compute each user’s average rating (user_avg_ratings) and predict deviations from it. During prediction, we add back the user's mean to personalize the final rating. This adjustment normalizes rating habits, improving similarity accuracy, prediction fairness, and the overall recommendation quality."
   ]
  },
  {
   "cell_type": "code",
   "execution_count": 117,
   "metadata": {},
   "outputs": [],
   "source": [
    "# Step 1: Compute average rating per user\n",
    "user_avg = df_sampled.groupby('userid')['rating'].mean().reset_index()\n",
    "user_avg.rename(columns={'rating': 'avgratingperuser'}, inplace=True)\n",
    "\n",
    "# Step 2: Merge and compute rating deviation\n",
    "df_with_avg = df_sampled.merge(user_avg, on='userid')\n",
    "df_with_avg['ratingdeviation_user'] = df_with_avg['rating'] - df_with_avg['avgratingperuser']\n",
    "users = df_with_avg[['userid', 'avgratingperuser', 'ratingdeviation_user']]\n",
    "\n",
    "# Step 3: Properly align user averages for KNN model\n",
    "user_to_index = {uid: idx for idx, uid in enumerate(sorted(df_sampled['userid'].unique()))}\n",
    "userid_to_avg = dict(zip(users['userid'], users['avgratingperuser']))\n",
    "user_avg_ratings = np.array([userid_to_avg[uid] for uid in sorted(user_to_index.keys())])\n"
   ]
  },
  {
   "cell_type": "code",
   "execution_count": 118,
   "metadata": {},
   "outputs": [
    {
     "name": "stdout",
     "output_type": "stream",
     "text": [
      "  (0, 217)\t3\n",
      "  (0, 287)\t2\n",
      "  (0, 310)\t3\n",
      "  (0, 354)\t4\n",
      "  (0, 361)\t3\n",
      "  (0, 638)\t4\n",
      "  (0, 786)\t3\n",
      "  (0, 1016)\t2\n",
      "  (0, 1427)\t3\n",
      "  (0, 1543)\t3\n",
      "  (0, 1585)\t3\n",
      "  (0, 2038)\t2\n",
      "  (0, 2142)\t3\n",
      "  (0, 2180)\t4\n",
      "  (0, 2219)\t3\n",
      "  (0, 2465)\t4\n",
      "  (0, 2778)\t5\n",
      "  (0, 2781)\t2\n",
      "  (0, 2919)\t3\n",
      "  (0, 3091)\t4\n",
      "  (0, 3325)\t3\n",
      "  (0, 3461)\t4\n",
      "  (0, 3468)\t2\n",
      "  (0, 3507)\t4\n",
      "  (0, 3622)\t3\n",
      "  :\t:\n",
      "  (1945, 12535)\t2\n",
      "  (1945, 12616)\t5\n",
      "  (1945, 12751)\t3\n",
      "  (1945, 12916)\t5\n",
      "  (1945, 12999)\t2\n",
      "  (1945, 13095)\t4\n",
      "  (1945, 13193)\t3\n",
      "  (1945, 13198)\t4\n",
      "  (1945, 13393)\t3\n",
      "  (1945, 13471)\t4\n",
      "  (1945, 13598)\t4\n",
      "  (1945, 13688)\t3\n",
      "  (1945, 13713)\t4\n",
      "  (1945, 13842)\t3\n",
      "  (1945, 13869)\t5\n",
      "  (1945, 13870)\t3\n",
      "  (1945, 14005)\t4\n",
      "  (1945, 14721)\t1\n",
      "  (1945, 14744)\t4\n",
      "  (1945, 14840)\t1\n",
      "  (1945, 14855)\t2\n",
      "  (1945, 14885)\t5\n",
      "  (1945, 14890)\t4\n",
      "  (1945, 15366)\t2\n",
      "  (1945, 15382)\t4\n"
     ]
    }
   ],
   "source": [
    "# Since we already a function to create the user-item matrix, we can use it here\n",
    "user_item_matrix = create_user_item_matrix(df_sampled, 'userid', 'itemid', 'rating')\n",
    "print(user_item_matrix)"
   ]
  },
  {
   "cell_type": "markdown",
   "metadata": {},
   "source": [
    "The randomly generated userid below corresponds to the user for whom the model will recommend ten movies."
   ]
  },
  {
   "cell_type": "code",
   "execution_count": 119,
   "metadata": {},
   "outputs": [
    {
     "name": "stdout",
     "output_type": "stream",
     "text": [
      "Random user: 441\n"
     ]
    }
   ],
   "source": [
    "# Generate a random integer representing a user index within the range of the number of rows in the user-item matrix\n",
    "random_user = np.random.randint(user_item_matrix.shape[0])\n",
    "# Print the randomly selected user index\n",
    "print(f\"Random user: {random_user}\")"
   ]
  },
  {
   "cell_type": "markdown",
   "metadata": {},
   "source": [
    "<div style=\"text-align:center; background: linear-gradient(to top right, #222, #000); padding: 20px; color:rgb(9, 24, 229);\">\n",
    "    <h3 style=\"font-weight: bold; font-size: 30px;\">2.1 Baseline Prediction</h3>\n",
    "</div>\n"
   ]
  },
  {
   "cell_type": "markdown",
   "metadata": {},
   "source": [
    "As per usual we first start with the baseline prediction."
   ]
  },
  {
   "cell_type": "code",
   "execution_count": null,
   "metadata": {},
   "outputs": [
    {
     "name": "stdout",
     "output_type": "stream",
     "text": [
      "Similar users like you (441) also liked:\n",
      "1. itemid: 95, Name: Broken Arrow (1996) - Category: Action|Thriller, Predicted rating: 5\n",
      "2. itemid: 167, Name: Feast of July (1995) - Category: Drama, Predicted rating: 5\n",
      "3. itemid: 287, Name: Nina Takes a Lover (1994) - Category: Comedy|Romance, Predicted rating: 5\n",
      "4. itemid: 1678, Name: Joy Luck Club, The (1993) - Category: Drama, Predicted rating: 5\n",
      "5. itemid: 2896, Name: Alvarez Kelly (1966) - Category: Western, Predicted rating: 5\n",
      "6. itemid: 26, Name: Othello (1995) - Category: Drama, Predicted rating: 5\n",
      "7. itemid: 372, Name: Reality Bites (1994) - Category: Comedy|Drama, Predicted rating: 5\n",
      "8. itemid: 3909, Name: Woman on Top (2000) - Category: Comedy|Romance, Predicted rating: 5\n",
      "9. itemid: 2549, Name: Wing Commander (1999) - Category: Action|Sci-Fi, Predicted rating: 5\n",
      "10. itemid: 1916, Name: Buffalo 66 (1998) - Category: Action|Comedy|Drama, Predicted rating: 5\n"
     ]
    }
   ],
   "source": [
    "# Sample data: Select a random user index\n",
    "selected_user_index = random_user\n",
    "# Get items that the user has not seen\n",
    "# Find indices of items not yet seen by the selected user\n",
    "items_not_seen_indices = np.where(user_item_matrix[selected_user_index, :].toarray().flatten() == 0)[0]\n",
    "# Filter items not seen by the selected user based on available item indices\n",
    "items_not_seen = [item_index for item_index in items_not_seen_indices if item_index in item_to_index]\n",
    "# Call the function to get recommendations\n",
    "recommend_items(user_item_matrix, selected_user_index, items_not_seen, item_to_index, item_to_name, item_to_category, k=5)\n"
   ]
  },
  {
   "cell_type": "markdown",
   "metadata": {},
   "source": [
    "<div style=\"text-align:center; background: linear-gradient(to top right, #222, #000); padding: 20px; color:rgb(57, 9, 229);\">\n",
    "    <h3 style=\"font-weight: bold; font-size: 30px;\">2.2 Hyperparameter Tuning</h3>\n",
    "</div>\n"
   ]
  },
  {
   "cell_type": "markdown",
   "metadata": {},
   "source": [
    "After our baseline we perform hyperparameter tuning, we can use all of our previous functions again."
   ]
  },
  {
   "cell_type": "code",
   "execution_count": 122,
   "metadata": {},
   "outputs": [
    {
     "name": "stdout",
     "output_type": "stream",
     "text": [
      "[k=5] RMSE=1.0184, MAE=0.8065\n",
      "[k=10] RMSE=1.0315, MAE=0.8156\n",
      "[k=20] RMSE=1.0501, MAE=0.8297\n",
      "[k=30] RMSE=1.0676, MAE=0.8406\n",
      "[k=40] RMSE=1.0787, MAE=0.8498\n",
      "[k=50] RMSE=1.0860, MAE=0.8555\n",
      "\n",
      "Best k: 5 → Validation RMSE=1.0184, MAE=0.8065\n"
     ]
    }
   ],
   "source": [
    "best_result = hyperparameter_tuning_user_knn(df_sampled, iterations=2, k_values=[5, 10, 20, 30, 40, 50], use_avg_ratings_option=False,           \n",
    "    user_avg_ratings=user_avg_ratings,       \n",
    "    user_col='userid',\n",
    "    item_col='itemid',\n",
    "    rating_col='rating',\n",
    "    time_col='timestamp')\n"
   ]
  },
  {
   "cell_type": "markdown",
   "metadata": {},
   "source": [
    "Observations:\n",
    "- As the value of k increases, RMSE and MAE generally increase, indicating a decrease in prediction accuracy.\n",
    "- The best performance, in terms of both RMSE and MAE, is achieved when k=5, with Validation RMSE=1.0184, MAE=0.8065\n",
    "\n",
    "Therefore, when using cosine similarity without averaging ratings per user, it is optimal to choose k=5 to achieve the best prediction accuracy based on the provided data."
   ]
  },
  {
   "cell_type": "markdown",
   "metadata": {},
   "source": [
    "<div style=\"text-align:center; background: linear-gradient(to top right, #222, #000); padding: 20px; color:rgb(9, 13, 229);\">\n",
    "    <h3 style=\"font-weight: bold; font-size: 30px;\">2.3 Testing</h3>\n",
    "</div>\n"
   ]
  },
  {
   "cell_type": "markdown",
   "metadata": {},
   "source": [
    "After tuning we test in the same way as we did before."
   ]
  },
  {
   "cell_type": "code",
   "execution_count": 125,
   "metadata": {},
   "outputs": [
    {
     "name": "stdout",
     "output_type": "stream",
     "text": [
      "[TEST] Final model with k=5 → RMSE=1.0375, MAE=0.8204\n",
      "Results for normal similarity approach: Test RMSE: 1.0375, Test MAE: 0.8204\n"
     ]
    }
   ],
   "source": [
    "final_k = best_result[2]  # Extract best k from tuning\n",
    "test_rmse, test_mae = test_user_knn_model(df_sampled, best_k=final_k)\n",
    "print(f\"Results for normal similarity approach: Test RMSE: {test_rmse:.4f}, Test MAE: {test_mae:.4f}\")"
   ]
  },
  {
   "cell_type": "code",
   "execution_count": 126,
   "metadata": {},
   "outputs": [
    {
     "name": "stdout",
     "output_type": "stream",
     "text": [
      "Similar users like you (441) also liked:\n",
      "1. itemid: 95, Name: Broken Arrow (1996) - Category: Action|Thriller, Predicted rating: 5\n",
      "2. itemid: 167, Name: Feast of July (1995) - Category: Drama, Predicted rating: 5\n",
      "3. itemid: 287, Name: Nina Takes a Lover (1994) - Category: Comedy|Romance, Predicted rating: 5\n",
      "4. itemid: 1678, Name: Joy Luck Club, The (1993) - Category: Drama, Predicted rating: 5\n",
      "5. itemid: 2896, Name: Alvarez Kelly (1966) - Category: Western, Predicted rating: 5\n",
      "6. itemid: 26, Name: Othello (1995) - Category: Drama, Predicted rating: 5\n",
      "7. itemid: 372, Name: Reality Bites (1994) - Category: Comedy|Drama, Predicted rating: 5\n",
      "8. itemid: 3909, Name: Woman on Top (2000) - Category: Comedy|Romance, Predicted rating: 5\n",
      "9. itemid: 2549, Name: Wing Commander (1999) - Category: Action|Sci-Fi, Predicted rating: 5\n",
      "10. itemid: 1916, Name: Buffalo 66 (1998) - Category: Action|Comedy|Drama, Predicted rating: 5\n"
     ]
    }
   ],
   "source": [
    "\n",
    "# Call the function to get recommendations with the best K to see if we get different results from our baseline prediction recommender \n",
    "recommend_items(user_item_matrix, selected_user_index, items_not_seen, item_to_index, item_to_name, item_to_category, k=final_k)"
   ]
  },
  {
   "cell_type": "markdown",
   "metadata": {},
   "source": [
    "<div style=\"text-align:center; background: linear-gradient(to top right, #222, #000); padding: 20px; color:rgb(49, 9, 229);\">\n",
    "    <h1 style=\"font-weight: bold; font-size: 36px;\">3. User-based classification using KNN</h1>\n",
    "</div>\n"
   ]
  },
  {
   "cell_type": "markdown",
   "metadata": {},
   "source": [
    "Now that we've utilized predictions, our next step is to classify users to identify similarities among them. This classification task can be accomplished using the KNN algorithm."
   ]
  },
  {
   "cell_type": "code",
   "execution_count": 127,
   "metadata": {},
   "outputs": [
    {
     "name": "stdout",
     "output_type": "stream",
     "text": [
      "441\n"
     ]
    }
   ],
   "source": [
    "# To freshen up our mind, we print the random user we used before again.\n",
    "print(random_user)"
   ]
  },
  {
   "cell_type": "code",
   "execution_count": 128,
   "metadata": {},
   "outputs": [
    {
     "name": "stdout",
     "output_type": "stream",
     "text": [
      "Users similar to user 441:\n",
      "User 1474 - Similarity: 0.11\n",
      "User 815 - Similarity: 0.09\n",
      "User 706 - Similarity: 0.09\n",
      "User 184 - Similarity: 0.08\n",
      "User 983 - Similarity: 0.08\n",
      "User 538 - Similarity: 0.08\n",
      "User 659 - Similarity: 0.08\n",
      "User 65 - Similarity: 0.08\n",
      "User 335 - Similarity: 0.07\n",
      "User 782 - Similarity: 0.07\n",
      "User 476 - Similarity: 0.07\n",
      "User 1610 - Similarity: 0.07\n",
      "User 505 - Similarity: 0.07\n",
      "User 965 - Similarity: 0.07\n",
      "User 418 - Similarity: 0.07\n",
      "User 1846 - Similarity: 0.07\n",
      "User 435 - Similarity: 0.07\n",
      "User 1651 - Similarity: 0.07\n",
      "User 642 - Similarity: 0.07\n",
      "User 1559 - Similarity: 0.07\n"
     ]
    }
   ],
   "source": [
    "# Sample data: Select a random user index\n",
    "selected_user_index = random_user\n",
    "\n",
    "# Calculate similarities between the selected user and other users\n",
    "similarities = user_user_similarity(user_item_matrix, selected_user_index)\n",
    "\n",
    "# Sort the similarities in descending order\n",
    "sorted_similarities = sorted(similarities, key=lambda x: x[1], reverse=True)\n",
    "\n",
    "# Display similar users\n",
    "print(f\"Users similar to user {selected_user_index}:\")\n",
    "for user_index, similarity in sorted_similarities[:20]:  # Display top X similar users\n",
    "    print(f\"User {user_index} - Similarity: {similarity:.2f}\")  # Print user index and similarity score\n"
   ]
  },
  {
   "cell_type": "markdown",
   "metadata": {},
   "source": [
    "<div style=\"text-align:center; background: linear-gradient(to top right, #222, #000); padding: 20px; color:hsl(234, 92.40%, 46.70%);\">\n",
    "    <h2 style=\"font-weight: bold; font-size: 36px;\">4. Predicting Using Similarity on Average rating per User </h2>\n",
    "</div>"
   ]
  },
  {
   "cell_type": "markdown",
   "metadata": {},
   "source": [
    "The previous predictions were done by finding users who rated similar movies high, in this section we will look into another feature: average rating per user."
   ]
  },
  {
   "cell_type": "markdown",
   "metadata": {},
   "source": [
    "<div style=\"text-align:center; background: linear-gradient(to top right, #222, #000); padding: 20px; color:rgb(68, 9, 229);\">\n",
    "    <h2 style=\"font-weight: bold; font-size: 36px;\">4.1 Baseline Prediction </h2>\n",
    "</div>"
   ]
  },
  {
   "cell_type": "code",
   "execution_count": 129,
   "metadata": {},
   "outputs": [
    {
     "name": "stdout",
     "output_type": "stream",
     "text": [
      "Similar users like you (441) also loved:\n",
      "1. itemid: 95, Name: Broken Arrow (1996) - Category: Action|Thriller, Predicted rating: 5\n",
      "2. itemid: 167, Name: Feast of July (1995) - Category: Drama, Predicted rating: 5\n",
      "3. itemid: 287, Name: Nina Takes a Lover (1994) - Category: Comedy|Romance, Predicted rating: 5\n",
      "4. itemid: 1678, Name: Joy Luck Club, The (1993) - Category: Drama, Predicted rating: 5\n",
      "5. itemid: 2896, Name: Alvarez Kelly (1966) - Category: Western, Predicted rating: 5\n",
      "6. itemid: 449, Name: Fear of a Black Hat (1993) - Category: Comedy, Predicted rating: 5\n",
      "7. itemid: 775, Name: Spirits of the Dead (Tre Passi nel Delirio) (1968) - Category: Horror, Predicted rating: 5\n",
      "8. itemid: 801, Name: Harriet the Spy (1996) - Category: Children's|Comedy, Predicted rating: 5\n",
      "9. itemid: 975, Name: Something to Sing About (1937) - Category: Comedy|Musical, Predicted rating: 5\n",
      "10. itemid: 1810, Name: Primary Colors (1998) - Category: Drama, Predicted rating: 5\n"
     ]
    }
   ],
   "source": [
    "# Call the function to get recommendations\n",
    "recommend_items_with_avg_rating_user(user_item_matrix, selected_user_index, items_not_seen, item_to_index, item_to_name, item_to_category, user_avg_ratings, k=10)"
   ]
  },
  {
   "cell_type": "markdown",
   "metadata": {},
   "source": [
    "<div style=\"text-align:center; background: linear-gradient(to top right, #222, #000); padding: 20px; color:rgb(42, 9, 229);\">\n",
    "    <h2 style=\"font-weight: bold; font-size: 36px;\">4.2 Hyperparameter tuning </h2>\n",
    "</div>"
   ]
  },
  {
   "cell_type": "markdown",
   "metadata": {},
   "source": [
    "Now that we have established our baseline, we proceed with the usual hyperparameter tuning process."
   ]
  },
  {
   "cell_type": "code",
   "execution_count": 130,
   "metadata": {},
   "outputs": [
    {
     "name": "stdout",
     "output_type": "stream",
     "text": [
      "[k=5] RMSE=0.9727, MAE=0.7700\n",
      "[k=10] RMSE=0.9866, MAE=0.7798\n",
      "[k=20] RMSE=1.0079, MAE=0.7953\n",
      "[k=30] RMSE=1.0253, MAE=0.8078\n",
      "[k=40] RMSE=1.0367, MAE=0.8160\n",
      "[k=50] RMSE=1.0444, MAE=0.8211\n",
      "\n",
      "Best k: 5 → Validation RMSE=0.9727, MAE=0.7700\n"
     ]
    }
   ],
   "source": [
    "# Now doing some hyperparameter tuning with average ratings\n",
    "best_parameters_with_avg = hyperparameter_tuning_user_knn(df_sampled, iterations=2, k_values=[5, 10, 20, 30, 40, 50], use_avg_ratings_option=True,           \n",
    "    user_avg_ratings=user_avg_ratings,       \n",
    "    user_col='userid',\n",
    "    item_col='itemid',\n",
    "    rating_col='rating',\n",
    "    time_col='timestamp')"
   ]
  },
  {
   "cell_type": "markdown",
   "metadata": {},
   "source": [
    "Observations:\n",
    "\n",
    "- The RMSE and MAE decrease as the value of k (number of neighbours) increases.\n",
    "- As k increases, the model performs better in prediction accuracy.\n",
    "- The best performance is achieved when k=5, with RMSE=0.9727, MAE=0.7700.\n",
    "\n",
    "Therefore, when employing cosine similarity with average ratings per user, choosing a K=5 to achieve the best prediction accuracy based on the given data is optimal."
   ]
  },
  {
   "cell_type": "markdown",
   "metadata": {},
   "source": [
    "After hyperparameter tuning we use the best found K on the test set."
   ]
  },
  {
   "cell_type": "code",
   "execution_count": 131,
   "metadata": {},
   "outputs": [
    {
     "name": "stdout",
     "output_type": "stream",
     "text": [
      "[TEST] Final model with k=5 → RMSE=0.9881, MAE=0.7802\n",
      "Results for approach with average ratings per user: Test RMSE: 0.9881, Test MAE: 0.7802\n"
     ]
    }
   ],
   "source": [
    "best_k_with_avg = best_result[2]  # Extract best k from tuning\n",
    "# Testing the model with the best k and average ratings \n",
    "test_rmse_with_avg, test_mae_with_avg = test_user_knn_model(df_sampled, best_k_with_avg,use_avg_ratings_option=True, user_avg_ratings=user_avg_ratings)\n",
    "print(f\"Results for approach with average ratings per user: Test RMSE: {test_rmse_with_avg:.4f}, Test MAE: {test_mae_with_avg:.4f}\")\n"
   ]
  },
  {
   "cell_type": "markdown",
   "metadata": {},
   "source": [
    "With the newly found best K we want to see the effect it has on the recommendations."
   ]
  },
  {
   "cell_type": "code",
   "execution_count": 132,
   "metadata": {},
   "outputs": [
    {
     "name": "stdout",
     "output_type": "stream",
     "text": [
      "Similar users like you (441) also loved:\n",
      "1. itemid: 95, Name: Broken Arrow (1996) - Category: Action|Thriller, Predicted rating: 5\n",
      "2. itemid: 167, Name: Feast of July (1995) - Category: Drama, Predicted rating: 5\n",
      "3. itemid: 287, Name: Nina Takes a Lover (1994) - Category: Comedy|Romance, Predicted rating: 5\n",
      "4. itemid: 1678, Name: Joy Luck Club, The (1993) - Category: Drama, Predicted rating: 5\n",
      "5. itemid: 2896, Name: Alvarez Kelly (1966) - Category: Western, Predicted rating: 5\n",
      "6. itemid: 449, Name: Fear of a Black Hat (1993) - Category: Comedy, Predicted rating: 5\n",
      "7. itemid: 775, Name: Spirits of the Dead (Tre Passi nel Delirio) (1968) - Category: Horror, Predicted rating: 5\n",
      "8. itemid: 801, Name: Harriet the Spy (1996) - Category: Children's|Comedy, Predicted rating: 5\n",
      "9. itemid: 975, Name: Something to Sing About (1937) - Category: Comedy|Musical, Predicted rating: 5\n",
      "10. itemid: 1810, Name: Primary Colors (1998) - Category: Drama, Predicted rating: 5\n"
     ]
    }
   ],
   "source": [
    "# Using the best k and average ratings to recommend items to the user to see if we get different results\n",
    "recommend_items_with_avg_rating_user(user_item_matrix, selected_user_index, items_not_seen, item_to_index, item_to_name, item_to_category, user_avg_ratings, k=best_k_with_avg)"
   ]
  },
  {
   "cell_type": "markdown",
   "metadata": {},
   "source": [
    "When examining similarities among users with the average rating, it becomes evident that recommendations undergo significant alterations."
   ]
  },
  {
   "cell_type": "markdown",
   "metadata": {},
   "source": [
    "<div style=\"text-align:center; background: linear-gradient(to top right, #222, #000); padding: 20px; color:rgb(24, 9, 229);\">\n",
    "    <h2 style=\"font-weight: bold; font-size: 36px;\">5. Combining rating and Average rating</h2>\n",
    "</div>\n"
   ]
  },
  {
   "cell_type": "markdown",
   "metadata": {},
   "source": [
    "Now that we've identified a distinction in recommendations, we aim to explore the impact of combining the similarities in ratings for the same movie and the average rating on recommendations and the resulting RMSE changes."
   ]
  },
  {
   "cell_type": "markdown",
   "metadata": {},
   "source": [
    "Now that our function is prepared for use, we employ it with the assigned weights and K value to obtain a baseline."
   ]
  },
  {
   "cell_type": "code",
   "execution_count": 133,
   "metadata": {},
   "outputs": [
    {
     "name": "stdout",
     "output_type": "stream",
     "text": [
      "Similar users like you (441) also loved:\n",
      "1. ItemID: 95, Name: Broken Arrow (1996) - Category: Action|Thriller, Predicted Rating: 5\n",
      "2. ItemID: 167, Name: Feast of July (1995) - Category: Drama, Predicted Rating: 5\n",
      "3. ItemID: 287, Name: Nina Takes a Lover (1994) - Category: Comedy|Romance, Predicted Rating: 5\n",
      "4. ItemID: 1678, Name: Joy Luck Club, The (1993) - Category: Drama, Predicted Rating: 5\n",
      "5. ItemID: 2896, Name: Alvarez Kelly (1966) - Category: Western, Predicted Rating: 5\n",
      "6. ItemID: 26, Name: Othello (1995) - Category: Drama, Predicted Rating: 5\n",
      "7. ItemID: 372, Name: Reality Bites (1994) - Category: Comedy|Drama, Predicted Rating: 5\n",
      "8. ItemID: 3909, Name: Woman on Top (2000) - Category: Comedy|Romance, Predicted Rating: 5\n",
      "9. ItemID: 2549, Name: Wing Commander (1999) - Category: Action|Sci-Fi, Predicted Rating: 5\n",
      "10. ItemID: 1916, Name: Buffalo 66 (1998) - Category: Action|Comedy|Drama, Predicted Rating: 5\n"
     ]
    }
   ],
   "source": [
    "# Sample call with custom weights and k\n",
    "recommend_movies_combined(user_item_matrix, selected_user_index, items_not_seen, item_to_index, item_to_name, item_to_category, user_avg_ratings, weight_cosine=0.6, weight_avg_rating=0.4, k=5)"
   ]
  },
  {
   "cell_type": "markdown",
   "metadata": {},
   "source": [
    "Starting with hyperparameter tuning the find the best value for K and the best wieghts for the hybrid model."
   ]
  },
  {
   "cell_type": "code",
   "execution_count": 134,
   "metadata": {},
   "outputs": [
    {
     "name": "stdout",
     "output_type": "stream",
     "text": [
      "For k=5 using cosine, best weight_normal=0.10, best weight_avg=0.90, the best average RMSE=0.9752 and MAE=0.7723\n",
      "For k=10 using cosine, best weight_normal=0.10, best weight_avg=0.90, the best average RMSE=0.9881 and MAE=0.7816\n",
      "For k=20 using cosine, best weight_normal=0.10, best weight_avg=0.90, the best average RMSE=1.0079 and MAE=0.7961\n",
      "For k=30 using cosine, best weight_normal=0.10, best weight_avg=0.90, the best average RMSE=1.0243 and MAE=0.8078\n",
      "For k=40 using cosine, best weight_normal=0.10, best weight_avg=0.90, the best average RMSE=1.0353 and MAE=0.8158\n",
      "For k=50 using cosine, best weight_normal=0.10, best weight_avg=0.90, the best average RMSE=1.0427 and MAE=0.8208\n",
      "Best Parameters: Metric=cosine, k=5, weight_normal=0.10, weight_avg=0.90, with RMSE=0.9752 and MAE=0.7723\n"
     ]
    }
   ],
   "source": [
    "# Call the function 'hyperparameter_tuning_hybrid_knn' to tune hyperparameters for the hybrid KNN model.\n",
    "best_parameters_hybrid = hyperparameter_tuning_hybrid_knn(df_sampled, user_avg_ratings)"
   ]
  },
  {
   "cell_type": "markdown",
   "metadata": {},
   "source": [
    "From the results of the hybrid approach:\n",
    "\n",
    "- The hybrid approach combines the cosine similarity and the average ratings per user.\n",
    "- As the value of k increases, RMSE and MAE generally decrease, indicating improved prediction accuracy.\n",
    "- The best performance is achieved when k=5, with a weight distribution of 0.1 for regular and a and 0.9 for average ratings, resulting in RMSE=1.0858 and MAE=0.8576\n",
    "\n",
    "Therefore, based on the provided data, the hybrid approach with cosine similarity and average ratings per user, using k=5 and 0.7 to 0.3 weighting for regular and average ratings, yields the best prediction accuracy."
   ]
  },
  {
   "cell_type": "code",
   "execution_count": 135,
   "metadata": {},
   "outputs": [
    {
     "name": "stdout",
     "output_type": "stream",
     "text": [
      "[TEST] Final model with k=5 → RMSE=0.9881, MAE=0.7802\n",
      "Results for hybrid approach: Test RMSE: 0.9881, Test MAE: 0.7802, Best k: 5, Weight for normal: 0.1, Weight for average: 0.9\n"
     ]
    }
   ],
   "source": [
    "# Defining the best k we got from hyperparameter tuning\n",
    "best_k_hybrid = 5\n",
    "\n",
    "# Defining the best weights we got from hyperparameter tuning\n",
    "best_weight_normal = 0.10\n",
    "best_weight_avg = 0.9\n",
    "\n",
    "# Testing the hybrid KNN model\n",
    "test_rmse_hybrid, test_mae_hybrid = test_user_knn_model(df_sampled, best_k_with_avg,use_avg_ratings_option=True, user_avg_ratings=user_avg_ratings)\n",
    "print(f\"Results for hybrid approach: Test RMSE: {test_rmse_hybrid:.4f}, Test MAE: {test_mae_hybrid:.4f}, Best k: {best_k_hybrid}, Weight for normal: {best_weight_normal}, Weight for average: {best_weight_avg}\")\n"
   ]
  },
  {
   "cell_type": "markdown",
   "metadata": {},
   "source": [
    "The test results for the hybrid approach indicate a RMSE: 0.9881, Test MAE: 0.7802. When applied to new, unseen data, these metrics evaluate the predictive model's accuracy. The best parameters identified are k=5, with a weight of 0.7 for normal and 0.3 for average ratings."
   ]
  },
  {
   "cell_type": "markdown",
   "metadata": {},
   "source": [
    "Lastly, we use our found hyperparameters and use it in out model to see the new recommendations."
   ]
  },
  {
   "cell_type": "code",
   "execution_count": 136,
   "metadata": {},
   "outputs": [
    {
     "name": "stdout",
     "output_type": "stream",
     "text": [
      "Similar users like you (441) also loved:\n",
      "1. ItemID: 95, Name: Broken Arrow (1996) - Category: Action|Thriller, Predicted Rating: 5\n",
      "2. ItemID: 167, Name: Feast of July (1995) - Category: Drama, Predicted Rating: 5\n",
      "3. ItemID: 287, Name: Nina Takes a Lover (1994) - Category: Comedy|Romance, Predicted Rating: 5\n",
      "4. ItemID: 1678, Name: Joy Luck Club, The (1993) - Category: Drama, Predicted Rating: 5\n",
      "5. ItemID: 2896, Name: Alvarez Kelly (1966) - Category: Western, Predicted Rating: 5\n",
      "6. ItemID: 26, Name: Othello (1995) - Category: Drama, Predicted Rating: 5\n",
      "7. ItemID: 372, Name: Reality Bites (1994) - Category: Comedy|Drama, Predicted Rating: 5\n",
      "8. ItemID: 3909, Name: Woman on Top (2000) - Category: Comedy|Romance, Predicted Rating: 5\n",
      "9. ItemID: 2549, Name: Wing Commander (1999) - Category: Action|Sci-Fi, Predicted Rating: 5\n",
      "10. ItemID: 1916, Name: Buffalo 66 (1998) - Category: Action|Comedy|Drama, Predicted Rating: 5\n"
     ]
    }
   ],
   "source": [
    "# Simple call with custom weights and k\n",
    "recommend_movies_combined(user_item_matrix, selected_user_index, items_not_seen, item_to_index, item_to_name, item_to_category, user_avg_ratings, weight_cosine=best_weight_normal, weight_avg_rating=best_weight_avg, k=best_k_hybrid)"
   ]
  },
  {
   "cell_type": "markdown",
   "metadata": {},
   "source": [
    "As we can see we got new recommendations."
   ]
  },
  {
   "cell_type": "markdown",
   "metadata": {},
   "source": [
    "<div style=\"text-align:center; background: linear-gradient(to top right, #222, #000); padding: 15px; color:rgb(57, 9, 229);\">\n",
    "    <h1 style=\"font-weight: bold; font-size: 36px;\">5. Evaluating the Recommended Items</h1>\n",
    "</div>\n",
    "\n"
   ]
  },
  {
   "cell_type": "markdown",
   "metadata": {},
   "source": [
    "We begin by evaluating the recommender system’s effectiveness using precision (or hit rate). A precision of zero in this context is desirable, as it indicates that the system is not recommending any movies the user has already seen. Instead, it exclusively suggests unseen items, aligning with our goal. As shown below, the hit rate is zero, which confirms that the recommender is performing as intended."
   ]
  },
  {
   "cell_type": "code",
   "execution_count": 137,
   "metadata": {},
   "outputs": [
    {
     "name": "stdout",
     "output_type": "stream",
     "text": [
      "Top-10 recommended items for user 441: [95, 167, 287, 1678, 2896, 26, 372, 3909, 2549, 1916]\n",
      "Ground truth rated items for user 441: []\n",
      "Hits: 0 out of 10\n",
      "Precision@10: 0.0000\n"
     ]
    }
   ],
   "source": [
    "# Your setup\n",
    "user_id = random_user  # Or any user you selected\n",
    "recommended_items = [95, 167, 287, 1678, 2896, 26, 372, 3909, 2549, 1916]\n",
    "k = 10  # Evaluate top 10\n",
    "\n",
    "# Step 1: Get ground truth items from df_sampled\n",
    "ground_truth = df_sampled[df_sampled['userid'] == user_id]['itemid'].tolist()\n",
    "\n",
    "# Step 2: Calculate hits\n",
    "hits = sum(1 for item in recommended_items[:k] if item in ground_truth)\n",
    "\n",
    "# Step 3: Calculate Precision@K\n",
    "precision = hits / k\n",
    "\n",
    "# Step 4: Output\n",
    "print(f\"Top-{k} recommended items for user {user_id}: {recommended_items[:k]}\")\n",
    "print(f\"Ground truth rated items for user {user_id}: {ground_truth}\")\n",
    "print(f\"Hits: {hits} out of {k}\")\n",
    "print(f\"Precision@{k}: {precision:.4f}\")\n",
    "\n"
   ]
  },
  {
   "cell_type": "markdown",
   "metadata": {},
   "source": [
    "### In addition to precision, we evaluate the recommender system using two complementary metrics: **novelty** and **diversity**, both computed at Top-K (K=3) recommendations.\n",
    "\n"
   ]
  },
  {
   "cell_type": "code",
   "execution_count": 138,
   "metadata": {},
   "outputs": [
    {
     "name": "stdout",
     "output_type": "stream",
     "text": [
      "\n",
      "Evaluation Metrics for user 441\n",
      "Novelty@10: -3.5024\n",
      "Diversity@10: 0.7377\n"
     ]
    }
   ],
   "source": [
    "# Calculate the number of ratings per item\n",
    "item_rating_counts = df_sampled.groupby('itemid').size()\n",
    "\n",
    "# Calculate the average rating per item\n",
    "item_rating_means = df_sampled.groupby('itemid')['rating'].mean()\n",
    "\n",
    "# Define \"true popularity\" = count × mean_rating\n",
    "item_true_popularity = (item_rating_counts * item_rating_means).to_dict()\n",
    "\n",
    "# Function for Novelty@K\n",
    "def novelty_at_k(recommended_items, item_popularity, k=10):\n",
    "    total = 0\n",
    "    for item in recommended_items[:k]:\n",
    "        pop = item_popularity.get(item, 1)  # avoid division by zero\n",
    "        total += -np.log2(pop + 1)\n",
    "    return total / k\n",
    "\n",
    "# Diversity@K (based on popularity spread)\n",
    "def diversity_popularity(recommended_items, item_popularity, k=10):\n",
    "    popularities = [item_popularity.get(item, 1) for item in recommended_items[:k]]\n",
    "    if len(popularities) < 2:\n",
    "        return 0\n",
    "    pop_std = np.std(popularities)\n",
    "    max_possible_std = np.std([1, max(item_popularity.values())])\n",
    "    return pop_std / max_possible_std\n",
    "\n",
    "# Calculate Novelty\n",
    "novelty_at_10 = novelty_at_k(recommended_items, item_popularity, k=10)\n",
    "\n",
    "# Calculate Diversity\n",
    "diversity_at_10 = diversity_at_k(recommended_items, movie_features_dict, k=10)\n",
    "\n",
    "# --- Final Output ---\n",
    "print(\"\\nEvaluation Metrics for user\", user_id)\n",
    "print(f\"Novelty@{k}: {novelty_at_10:.4f}\")\n",
    "print(f\"Diversity@{k}: {diversity_at_10:.4f}\")"
   ]
  },
  {
   "cell_type": "markdown",
   "metadata": {},
   "source": [
    "### Novelty: -3.5024\n",
    "The novelty score is negative, as expected, because it's based on the formula `-log₂(popularity + 1)`. A score of **-3.5024** suggests that the system is generally recommending **moderately popular items** — not the most mainstream, but not obscure either.Lower (more negative) values indicate recommendations skewing toward more popular items. To increase novelty (i.e., recommend less well-known content), the system would need to shift toward **lower-popularity** items in its top-K suggestions.\n",
    "### Diversity: 0.7968\n",
    "\n",
    "This is a **strong diversity score** on a 0–1 scale.  \n",
    "A score of **0.7377** implies that the recommended items for each user are **highly dissimilar** in terms of their genre composition.  \n",
    "This reflects a healthy level of **variety** in the top-3 recommendations, reducing redundancy and increasing the likelihood that users will find something novel or unexpected within each set.\n"
   ]
  },
  {
   "cell_type": "markdown",
   "metadata": {},
   "source": [
    "<div style=\"text-align:center; background: linear-gradient(to top right, #222, #000); padding: 15px; color:rgb(229, 9, 9);\">\n",
    "    <h1 style=\"font-weight: bold; font-size: 50px;\">Summary Comparison of the results in the evaluation metric in Both datasets</h1>\n",
    "</div>\n"
   ]
  },
  {
   "cell_type": "markdown",
   "metadata": {},
   "source": [
    "| Dataset      | Test RMSE | Hit Rate@10 | Novelty@10 | Diversity@10 |\n",
    "|:-------------|:----------|:------------|:-----------|:-------------|\n",
    "| **Netflix**  | 0.9881    | 0.0000       | -3.5024     | 0.7377        |\n",
    "| **Movielens**| 1.2391    | 0.0000       | -4.3911     | 0.7968        |\n"
   ]
  },
  {
   "cell_type": "markdown",
   "metadata": {},
   "source": [
    "The hybrid recommender achieved better rating prediction performance on Netflix than Movielens, as indicated by a lower RMSE. However, the hit rate was zero in both datasets, suggesting that the recommendations prioritized exploration of new items rather than recovering known test items. Recommendations for Netflix users exhibited higher novelty, favoring less popular movies, while Movielens recommendations demonstrated slightly higher diversity, offering a broader range of content types."
   ]
  },
  {
   "cell_type": "markdown",
   "metadata": {},
   "source": []
  }
 ],
 "metadata": {
  "kernelspec": {
   "display_name": "Python 3",
   "language": "python",
   "name": "python3"
  },
  "language_info": {
   "codemirror_mode": {
    "name": "ipython",
    "version": 3
   },
   "file_extension": ".py",
   "mimetype": "text/x-python",
   "name": "python",
   "nbconvert_exporter": "python",
   "pygments_lexer": "ipython3",
   "version": "3.9.21"
  }
 },
 "nbformat": 4,
 "nbformat_minor": 2
}
